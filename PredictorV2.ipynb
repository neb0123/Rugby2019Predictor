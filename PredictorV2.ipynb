{
 "cells": [
  {
   "cell_type": "code",
   "execution_count": 354,
   "metadata": {},
   "outputs": [],
   "source": [
    "from itertools import combinations\n",
    "from collections import Counter\n",
    "import random"
   ]
  },
  {
   "cell_type": "markdown",
   "metadata": {},
   "source": [
    "We put the odds for each team based on their pooling. [a,b,c] = ['Odds within pool', 'Odds overall', score]"
   ]
  },
  {
   "cell_type": "code",
   "execution_count": 355,
   "metadata": {},
   "outputs": [],
   "source": [
    "Teams = ['Ireland', 'Scotland', 'Japan', 'Russia', 'Samoa',\n",
    "         'New Zealand', 'South Africa', 'Italy', 'Namibia', 'Canada',\n",
    "         'England', 'France', 'Argentina', 'Tonga', 'USA',\n",
    "         'Wales', 'Australia', 'Fiji', 'Georgia', 'Uruguay']\n",
    "PoolA = {'Ireland':[1.34,4.7,0], 'Scotland':[4.9,24,0], 'Japan':[14,60,0], 'Russia':[500,200,0], 'Samoa':[50,200,0]}\n",
    "PoolB = {'New Zealand':[1.32,1.76,0], 'South Africa':[4,2.88,0], 'Italy':[200,100,0], 'Namibia':[500,200,0], 'Canada':[500,100,0]}\n",
    "PoolC = {'England':[1.38,3.5,0], 'France':[5.6,12.5,0], 'Argentina':[7.2,20,0], 'Tonga':[500,100,0], 'USA':[500,100,0]}\n",
    "PoolD = {'Wales':[1.86,4.6,0], 'Australia':[2.12,6.8,0], 'Fiji':[40,60,0], 'Georgia':[500,100,0], 'Uruguay':[500,200,0]}\n",
    "quarter_play = [(4,7), (1,2), (6,5), (0,3)]\n",
    "semi_play = [(0,1),(2,3)]"
   ]
  },
  {
   "cell_type": "code",
   "execution_count": 356,
   "metadata": {},
   "outputs": [],
   "source": [
    "def who_won(teamA, teamB, probA, probB, loser = False):\n",
    "    if loser:\n",
    "        return (teamA, teamB) if random.random() < 1 - (probA / (probA + probB))  else (teamB, teamA)\n",
    "    else:\n",
    "        return teamA if random.random() < 1 - (probA / (probA + probB))  else teamB"
   ]
  },
  {
   "cell_type": "markdown",
   "metadata": {},
   "source": [
    "## Tournament Model"
   ]
  },
  {
   "cell_type": "code",
   "execution_count": 357,
   "metadata": {},
   "outputs": [],
   "source": [
    "def tournament():\n",
    "    ## Reset scores:\n",
    "    for pool in [PoolA, PoolB, PoolC, PoolD]:\n",
    "        for team in pool.keys():\n",
    "            pool[team][2] = 0\n",
    "    ## Set up the quarter/semi/final lists:\n",
    "    quarter = []\n",
    "    semi = []\n",
    "    final = []\n",
    "    bronze = []\n",
    "    ## We play the pool games first:\n",
    "    for pool in [PoolA, PoolB, PoolC, PoolD]:\n",
    "        for game in combinations(pool.keys(), 2):\n",
    "            win = who_won(game[0], game[1], pool[game[0]][0], pool[game[1]][0])\n",
    "            pool[win][2] += 30\n",
    "        order = sorted(pool, key=lambda k: pool[k][2], reverse=True)\n",
    "        winner = order[0]      # Who won\n",
    "        pool[winner][2] += 30  # Gets 30pts\n",
    "        quarter.append(winner) # Add to quarter finals\n",
    "        second = order[1]      # Who came second\n",
    "        pool[second][2] += 15  # Gets 15pts\n",
    "        quarter.append(second) # Add to quarter finals\n",
    "    ## Combine the pools into a full set:\n",
    "    Pools = {**PoolA, **PoolB, **PoolC, **PoolD}\n",
    "    ## Next play the quarter finals:\n",
    "    for qp in quarter_play:\n",
    "        teamA = quarter[qp[0]]\n",
    "        teamB = quarter[qp[1]]\n",
    "        winner = who_won(teamA, teamB, Pools[teamA][1], Pools[teamB][1])\n",
    "        Pools[winner][2] += 40\n",
    "        semi.append(winner)\n",
    "    ## Next play the semi finals:\n",
    "    for sp in semi_play:\n",
    "        teamA = semi[sp[0]]\n",
    "        teamB = semi[sp[1]]\n",
    "        winner, loser = who_won(teamA, teamB, Pools[teamA][1], Pools[teamB][1], True)\n",
    "        Pools[winner][2] += 80\n",
    "        final.append(winner)\n",
    "        bronze.append(loser)\n",
    "    ## Play for bronze:\n",
    "    Pools[who_won(bronze[0], bronze[1], Pools[bronze[0]][1], Pools[bronze[1]][1])][2] += 40\n",
    "    ## Play the final:\n",
    "    Pools[who_won(final[0], final[1], Pools[final[0]][1], Pools[final[1]][1])][2] += 120\n",
    "    \n",
    "    return({team:Pools[team][2] for team in Teams})"
   ]
  },
  {
   "cell_type": "code",
   "execution_count": 358,
   "metadata": {},
   "outputs": [],
   "source": [
    "def score(shares, total_shares, T):\n",
    "    total = 0\n",
    "    for team in shares.keys():\n",
    "        total += T[team] * (shares[team] / total_shares[team])\n",
    "    return total"
   ]
  },
  {
   "cell_type": "markdown",
   "metadata": {},
   "source": [
    "And so, given we run a tournament and own the shares given by 'shares', if everyone else owns the shares given by 'total_shares', then we can work out our score. For example:"
   ]
  },
  {
   "cell_type": "code",
   "execution_count": 359,
   "metadata": {},
   "outputs": [
    {
     "data": {
      "text/plain": [
       "162.9047619047619"
      ]
     },
     "execution_count": 359,
     "metadata": {},
     "output_type": "execute_result"
    }
   ],
   "source": [
    "T = tournament()\n",
    "shares = {'England':4, 'New Zealand':2, 'South Africa':2, 'Fiji':4, 'France':4}\n",
    "total_shares = {'Ireland': 10, 'Scotland': 3, 'Japan': 20, 'Russia': 5, 'Samoa': 8, 'New Zealand': 30, 'South Africa': 50, 'Italy': 12, 'Namibia': 0, 'Canada': 3, 'England': 35, 'France': 30, 'Argentina': 30, 'Tonga': 4, 'USA': 5, 'Wales': 30, 'Australia': 3, 'Fiji': 3, 'Georgia': 3, 'Uruguay': 6}\n",
    "score(shares, total_shares, T)"
   ]
  },
  {
   "cell_type": "markdown",
   "metadata": {},
   "source": [
    "## Tactics\n",
    "Define various tactics that people may employ:"
   ]
  },
  {
   "cell_type": "code",
   "execution_count": 540,
   "metadata": {},
   "outputs": [],
   "source": [
    "## Go for full 4 shares of 4 \"good\" teams\n",
    "def good_tactic():\n",
    "    good_teams = ['New Zealand', 'England', 'Wales', 'South Africa', 'Ireland', 'Australia']\n",
    "    return Counter({r:4 for r in random.sample(good_teams, 4)})\n",
    "\n",
    "## Spread out shares on \"good\" teams\n",
    "def spread_tactic():\n",
    "    middle_teams = ['New Zealand', 'England', 'Wales', 'South Africa', 'Ireland', 'Australia']\n",
    "    shares = {team:4 for team in middle_teams} # Start with all shares on 4\n",
    "    while sum([i for i in shares.values()]) != 16:\n",
    "        team = random.choice([i for i in shares.keys()])     # Choose a random team\n",
    "        shares[team] -= 1               # Decrease the share by 1\n",
    "        if shares[team] == 0:           # If it hits 0, delete it\n",
    "            del shares[team]\n",
    "    return Counter(shares)\n",
    "    \n",
    "## Return shares of random teams\n",
    "def random_tactic():\n",
    "    shares = {team:4 for team in Teams} # Start with all shares on 4\n",
    "    while sum([i for i in shares.values()]) != 16:\n",
    "        team = random.choice([i for i in shares.keys()])     # Choose a random team\n",
    "        shares[team] -= 1               # Decrease the share by 1\n",
    "        if shares[team] == 0:           # If it hits 0, delete it\n",
    "            del shares[team]\n",
    "    return Counter(shares)\n",
    "    \n",
    "## Return shares of \"middle teams\"\n",
    "def middle_tactic():\n",
    "    middle_teams = ['Australia', 'France', 'Scotland', 'Argentina', 'Japan', 'Fiji']\n",
    "    shares = {team:4 for team in middle_teams} # Start with all shares on 4\n",
    "    while sum([i for i in shares.values()]) != 16:\n",
    "        team = random.choice([i for i in shares.keys()])     # Choose a random team\n",
    "        shares[team] -= 1               # Decrease the share by 1\n",
    "        if shares[team] == 0:           # If it hits 0, delete it\n",
    "            del shares[team]\n",
    "    return Counter(shares)\n",
    "    \n",
    "## Go for full 4 shares of 4 teams across pools\n",
    "def pool_tactic():\n",
    "    shares = {}\n",
    "    for pool in [PoolA, PoolB, PoolC, PoolD]:\n",
    "        team = random.choice([i for i in pool.keys()])\n",
    "        shares[team] = 4\n",
    "    return Counter(shares)\n",
    "\n",
    "## Ben tactic: 4 on NZ and SA.\n",
    "def ben_tactic():\n",
    "    good_teams = ['New Zealand', 'England', 'Wales', 'South Africa', 'Ireland', 'Australia', 'France', 'Scotland', 'Argentina', 'Japan', 'Fiji']\n",
    "    shares = {team:4 for team in good_teams} # Start with all shares on 4\n",
    "    while sum([i for i in shares.values()]) != 16:\n",
    "        team = random.choice([i for i in shares.keys()])     # Choose a random team\n",
    "        if team == 'New Zealand' or team == 'South Africa':\n",
    "            continue\n",
    "        shares[team] -= 1               # Decrease the share by 1\n",
    "        if shares[team] == 0:           # If it hits 0, delete it\n",
    "            del shares[team]\n",
    "    return Counter(shares)"
   ]
  },
  {
   "cell_type": "code",
   "execution_count": 542,
   "metadata": {},
   "outputs": [],
   "source": [
    "def run_game(tactics, shares, n, m, spread = False):\n",
    "    S = []\n",
    "    for i in range(n):\n",
    "        T = tournament()\n",
    "        if not spread:\n",
    "            for j in range(m):\n",
    "                total_shares = Counter(shares)\n",
    "                for t1 in range(tactics[0]):\n",
    "                    total_shares += good_tactic()\n",
    "                for t2 in range(tactics[1]):\n",
    "                    total_shares += random_tactic()\n",
    "                for t3 in range(tactics[2]):\n",
    "                    total_shares += middle_tactic()\n",
    "                for t4 in range(tactics[3]):\n",
    "                    total_shares += pool_tactic()\n",
    "                S.append(score(shares, total_shares, T))\n",
    "        else:\n",
    "            total_shares = Counter(shares)\n",
    "            for t1 in range(tactics[0]):\n",
    "                    total_shares += good_tactic()\n",
    "            for t2 in range(tactics[1]):\n",
    "                total_shares += random_tactic()\n",
    "            for t3 in range(tactics[2]):\n",
    "                total_shares += middle_tactic()\n",
    "            for t4 in range(tactics[3]):\n",
    "                total_shares += pool_tactic()\n",
    "            for t5 in range(tactics[4]):\n",
    "                total_shares += spread_tactic()\n",
    "            S.append(score(shares, total_shares, T))\n",
    "    return sum(S) / len(S)     "
   ]
  },
  {
   "cell_type": "markdown",
   "metadata": {},
   "source": [
    "Lots of people go for good teams:"
   ]
  },
  {
   "cell_type": "code",
   "execution_count": 472,
   "metadata": {},
   "outputs": [
    {
     "name": "stdout",
     "output_type": "stream",
     "text": [
      "Counter({'Ireland': 4, 'New Zealand': 3, 'Scotland': 2, 'Italy': 2, 'Wales': 2, 'Canada': 1, 'England': 1, 'France': 1})\n",
      "106.30236230043437\n",
      "\n",
      "\n",
      "Counter({'Scotland': 3, 'New Zealand': 3, 'Samoa': 2, 'Italy': 2, 'Argentina': 2, 'Ireland': 1, 'Namibia': 1, 'Tonga': 1, 'Uruguay': 1})\n",
      "101.80013923794911\n",
      "\n",
      "\n"
     ]
    }
   ],
   "source": [
    "tactics = [10,5,3,2]\n",
    "\n",
    "for i in range(100):\n",
    "    shares = random_tactic()\n",
    "    s = run_game(tactics, shares, 100, 10)\n",
    "    if s > 100:\n",
    "        print(shares)\n",
    "        print(s)\n",
    "        print('\\n')"
   ]
  },
  {
   "cell_type": "markdown",
   "metadata": {},
   "source": [
    "Lots of people go for middle teams:"
   ]
  },
  {
   "cell_type": "code",
   "execution_count": 477,
   "metadata": {},
   "outputs": [
    {
     "name": "stdout",
     "output_type": "stream",
     "text": [
      "Counter({'Japan': 3, 'England': 3, 'Scotland': 2, 'France': 2, 'Wales': 2, 'Samoa': 1, 'New Zealand': 1, 'South Africa': 1, 'Fiji': 1})\n",
      "104.84689381728379\n",
      "\n",
      "\n",
      "Counter({'Ireland': 2, 'Samoa': 2, 'Canada': 2, 'USA': 2, 'Georgia': 2, 'Russia': 1, 'New Zealand': 1, 'South Africa': 1, 'Italy': 1, 'England': 1, 'France': 1})\n",
      "102.12293975967269\n",
      "\n",
      "\n",
      "Counter({'England': 4, 'Scotland': 2, 'Japan': 2, 'USA': 2, 'Samoa': 1, 'New Zealand': 1, 'South Africa': 1, 'Italy': 1, 'Tonga': 1, 'Fiji': 1})\n",
      "103.85987990698501\n",
      "\n",
      "\n",
      "Counter({'New Zealand': 4, 'Ireland': 3, 'South Africa': 2, 'Argentina': 2, 'Wales': 2, 'France': 1, 'Tonga': 1, 'Georgia': 1})\n",
      "133.75163102576423\n",
      "\n",
      "\n",
      "Counter({'England': 4, 'Russia': 2, 'Samoa': 2, 'Wales': 2, 'Uruguay': 2, 'Japan': 1, 'New Zealand': 1, 'Italy': 1, 'Fiji': 1})\n",
      "105.09529802612198\n",
      "\n",
      "\n",
      "Counter({'New Zealand': 2, 'South Africa': 2, 'Italy': 2, 'Namibia': 2, 'England': 2, 'Georgia': 2, 'Ireland': 1, 'France': 1, 'USA': 1, 'Uruguay': 1})\n",
      "120.44135127285045\n",
      "\n",
      "\n",
      "Counter({'New Zealand': 3, 'Samoa': 2, 'France': 2, 'Argentina': 2, 'Australia': 2, 'South Africa': 1, 'Namibia': 1, 'Canada': 1, 'Tonga': 1, 'Uruguay': 1})\n",
      "104.09664041898195\n",
      "\n",
      "\n",
      "Counter({'Ireland': 3, 'New Zealand': 2, 'Argentina': 2, 'Georgia': 2, 'Uruguay': 2, 'England': 1, 'France': 1, 'USA': 1, 'Wales': 1, 'Fiji': 1})\n",
      "102.08421447716731\n",
      "\n",
      "\n",
      "Counter({'South Africa': 3, 'England': 3, 'Ireland': 2, 'Japan': 2, 'Argentina': 2, 'Scotland': 1, 'Italy': 1, 'Namibia': 1, 'Wales': 1})\n",
      "119.08988706112525\n",
      "\n",
      "\n",
      "Counter({'New Zealand': 3, 'Canada': 3, 'France': 2, 'Scotland': 1, 'Japan': 1, 'Russia': 1, 'South Africa': 1, 'England': 1, 'Wales': 1, 'Australia': 1, 'Fiji': 1})\n",
      "104.20443003166788\n",
      "\n",
      "\n",
      "Counter({'Canada': 3, 'Samoa': 2, 'Italy': 2, 'Argentina': 2, 'Ireland': 1, 'Russia': 1, 'New Zealand': 1, 'South Africa': 1, 'England': 1, 'Wales': 1, 'Georgia': 1})\n",
      "105.00292658018313\n",
      "\n",
      "\n",
      "Counter({'New Zealand': 4, 'Japan': 2, 'France': 2, 'Wales': 2, 'South Africa': 1, 'Italy': 1, 'Canada': 1, 'Tonga': 1, 'Fiji': 1, 'Georgia': 1})\n",
      "119.92938009971799\n",
      "\n",
      "\n",
      "Counter({'Japan': 3, 'South Africa': 3, 'Scotland': 2, 'England': 2, 'USA': 2, 'Wales': 2, 'New Zealand': 1, 'Fiji': 1})\n",
      "103.47426877051846\n",
      "\n",
      "\n",
      "Counter({'Georgia': 3, 'New Zealand': 2, 'England': 2, 'France': 2, 'Ireland': 1, 'Japan': 1, 'Samoa': 1, 'Italy': 1, 'Namibia': 1, 'Canada': 1, 'Uruguay': 1})\n",
      "109.49069198037336\n",
      "\n",
      "\n",
      "Counter({'France': 3, 'Uruguay': 3, 'Ireland': 2, 'New Zealand': 2, 'USA': 2, 'Wales': 2, 'Namibia': 1, 'England': 1})\n",
      "104.91123565906211\n",
      "\n",
      "\n",
      "Counter({'Fiji': 3, 'Ireland': 2, 'Scotland': 2, 'New Zealand': 2, 'Canada': 2, 'Wales': 2, 'Japan': 1, 'England': 1, 'Argentina': 1})\n",
      "102.66174931132609\n",
      "\n",
      "\n",
      "Counter({'Russia': 3, 'Japan': 2, 'New Zealand': 2, 'Italy': 2, 'Canada': 2, 'England': 2, 'Wales': 2, 'Uruguay': 1})\n",
      "101.58853495027157\n",
      "\n",
      "\n",
      "Counter({'Scotland': 3, 'New Zealand': 3, 'France': 3, 'South Africa': 2, 'Canada': 2, 'Argentina': 2, 'Ireland': 1})\n",
      "104.99026865356646\n",
      "\n",
      "\n",
      "Counter({'Italy': 4, 'Ireland': 3, 'England': 3, 'France': 2, 'Samoa': 1, 'New Zealand': 1, 'Canada': 1, 'Tonga': 1})\n",
      "115.56144591363083\n",
      "\n",
      "\n",
      "Counter({'Italy': 3, 'Japan': 2, 'New Zealand': 2, 'Namibia': 2, 'England': 2, 'Tonga': 2, 'Ireland': 1, 'Canada': 1, 'Georgia': 1})\n",
      "104.6486332169577\n",
      "\n",
      "\n",
      "Counter({'Ireland': 3, 'Fiji': 3, 'Namibia': 2, 'England': 2, 'New Zealand': 1, 'South Africa': 1, 'Italy': 1, 'Canada': 1, 'Wales': 1, 'Georgia': 1})\n",
      "115.10402387321487\n",
      "\n",
      "\n",
      "Counter({'Wales': 3, 'New Zealand': 2, 'South Africa': 2, 'Namibia': 2, 'Argentina': 2, 'USA': 2, 'Japan': 1, 'Samoa': 1, 'Fiji': 1})\n",
      "107.30152130386757\n",
      "\n",
      "\n"
     ]
    }
   ],
   "source": [
    "tactics = [5,5,10,2]\n",
    "\n",
    "for i in range(100):\n",
    "    shares = random_tactic()\n",
    "    s = run_game(tactics, shares, 100, 10)\n",
    "    if s > 100:\n",
    "        print(shares)\n",
    "        print(s)\n",
    "        print('\\n')"
   ]
  },
  {
   "cell_type": "markdown",
   "metadata": {},
   "source": [
    "Lots of people are random:"
   ]
  },
  {
   "cell_type": "code",
   "execution_count": 486,
   "metadata": {},
   "outputs": [
    {
     "name": "stdout",
     "output_type": "stream",
     "text": [
      "Counter({'England': 3, 'France': 3, 'USA': 3, 'Wales': 3, 'New Zealand': 2, 'Ireland': 1, 'Fiji': 1})\n",
      "112.98756274877083\n",
      "\n",
      "\n",
      "Counter({'Scotland': 2, 'New Zealand': 2, 'Italy': 2, 'Ireland': 1, 'Japan': 1, 'Samoa': 1, 'South Africa': 1, 'Namibia': 1, 'Canada': 1, 'England': 1, 'Argentina': 1, 'Wales': 1, 'Uruguay': 1})\n",
      "104.61683066876947\n",
      "\n",
      "\n",
      "Counter({'Australia': 3, 'Japan': 2, 'New Zealand': 2, 'Italy': 2, 'Ireland': 1, 'Scotland': 1, 'Samoa': 1, 'South Africa': 1, 'Argentina': 1, 'Wales': 1, 'Fiji': 1})\n",
      "102.25292848141666\n",
      "\n",
      "\n",
      "Counter({'England': 3, 'Ireland': 2, 'South Africa': 2, 'Italy': 2, 'France': 2, 'Georgia': 2, 'Canada': 1, 'USA': 1, 'Wales': 1})\n",
      "102.42661741409607\n",
      "\n",
      "\n",
      "Counter({'England': 3, 'Ireland': 2, 'Scotland': 2, 'Samoa': 2, 'Italy': 2, 'South Africa': 1, 'Canada': 1, 'France': 1, 'USA': 1, 'Wales': 1})\n",
      "102.41889939756771\n",
      "\n",
      "\n",
      "Counter({'Ireland': 3, 'New Zealand': 2, 'Namibia': 2, 'Wales': 2, 'Japan': 1, 'South Africa': 1, 'England': 1, 'Argentina': 1, 'Tonga': 1, 'USA': 1, 'Australia': 1})\n",
      "113.50701871677528\n",
      "\n",
      "\n",
      "Counter({'New Zealand': 3, 'Scotland': 2, 'South Africa': 2, 'Namibia': 2, 'Uruguay': 2, 'Ireland': 1, 'Japan': 1, 'Wales': 1, 'Australia': 1, 'Georgia': 1})\n",
      "108.09638528270247\n",
      "\n",
      "\n"
     ]
    }
   ],
   "source": [
    "tactics = [4,10,4,2]\n",
    "\n",
    "for i in range(100):\n",
    "    shares = random_tactic()\n",
    "    s = run_game(tactics, shares, 100, 10)\n",
    "    if s > 100:\n",
    "        print(shares)\n",
    "        print(s)\n",
    "        print('\\n')"
   ]
  },
  {
   "cell_type": "markdown",
   "metadata": {},
   "source": [
    "Lots of people spread out:"
   ]
  },
  {
   "cell_type": "code",
   "execution_count": 487,
   "metadata": {},
   "outputs": [
    {
     "name": "stdout",
     "output_type": "stream",
     "text": [
      "Counter({'England': 3, 'Wales': 3, 'South Africa': 2, 'Australia': 2, 'Ireland': 1, 'New Zealand': 1, 'Namibia': 1, 'France': 1, 'Argentina': 1, 'Tonga': 1})\n",
      "102.12412703682732\n",
      "\n",
      "\n",
      "Counter({'New Zealand': 2, 'South Africa': 2, 'Italy': 2, 'England': 2, 'France': 2, 'Wales': 2, 'Samoa': 1, 'Canada': 1, 'USA': 1, 'Fiji': 1})\n",
      "100.1731307426265\n",
      "\n",
      "\n"
     ]
    }
   ],
   "source": [
    "tactics = [6,4,5,8]\n",
    "\n",
    "for i in range(100):\n",
    "    shares = random_tactic()\n",
    "    s = run_game(tactics, shares, 100, 10)\n",
    "    if s > 100:\n",
    "        print(shares)\n",
    "        print(s)\n",
    "        print('\\n')"
   ]
  },
  {
   "cell_type": "code",
   "execution_count": 531,
   "metadata": {},
   "outputs": [
    {
     "name": "stdout",
     "output_type": "stream",
     "text": [
      "105.59377850550342\n",
      "162.9255571296172\n",
      "153.73725119493625\n",
      "125.4826640244673\n"
     ]
    }
   ],
   "source": [
    "o = {'New Zealand': 4, 'South Africa': 4, 'Ireland': 3, 'England': 2, 'Wales': 2, 'Scotland': 1}\n",
    "for tactics in all_tactics:  \n",
    "        print(run_game(tactics, o, 100, 10))"
   ]
  },
  {
   "cell_type": "code",
   "execution_count": 534,
   "metadata": {},
   "outputs": [
    {
     "name": "stdout",
     "output_type": "stream",
     "text": [
      "102.33613062293999\n",
      "167.46181719423103\n",
      "157.65107560999277\n",
      "127.90140792451375\n"
     ]
    }
   ],
   "source": [
    "o = {'New Zealand': 4, 'England': 4, 'South Africa': 4, 'Wales': 2, 'Ireland': 2}\n",
    "for tactics in all_tactics:  \n",
    "        print(run_game(tactics, o, 100, 10))"
   ]
  },
  {
   "cell_type": "code",
   "execution_count": 533,
   "metadata": {},
   "outputs": [
    {
     "name": "stdout",
     "output_type": "stream",
     "text": [
      "100.89123938221138\n",
      "159.25852667342534\n",
      "153.84922926535006\n",
      "125.16024681760454\n"
     ]
    }
   ],
   "source": [
    "o = {'New Zealand': 4, 'South Africa': 4, 'England': 3, 'Wales': 2, 'Australia': 2, 'Ireland': 1}\n",
    "for tactics in all_tactics:  \n",
    "        print(run_game(tactics, o, 100, 10))"
   ]
  },
  {
   "cell_type": "code",
   "execution_count": 538,
   "metadata": {},
   "outputs": [
    {
     "name": "stdout",
     "output_type": "stream",
     "text": [
      "107.57119230429818\n",
      "153.6887583592056\n",
      "153.6486384407959\n",
      "123.86109203183526\n"
     ]
    }
   ],
   "source": [
    "o = {'New Zealand': 4, 'England': 4, 'South Africa': 4, 'Wales': 2, 'France': 1, 'Scotland': 1}\n",
    "for tactics in all_tactics:  \n",
    "        print(run_game(tactics, o, 100, 10))"
   ]
  },
  {
   "cell_type": "code",
   "execution_count": 539,
   "metadata": {},
   "outputs": [
    {
     "name": "stdout",
     "output_type": "stream",
     "text": [
      "100.21020575583027\n",
      "166.51975030782714\n",
      "156.59525540221344\n",
      "127.05265746574884\n"
     ]
    }
   ],
   "source": [
    "o = {'New Zealand': 4, 'South Africa': 4, 'Wales': 3, 'England': 2, 'Ireland': 2, 'Australia': 1}\n",
    "for tactics in all_tactics:  \n",
    "        print(run_game(tactics, o, 100, 10))"
   ]
  },
  {
   "cell_type": "markdown",
   "metadata": {},
   "source": [
    "## Final tests with spread"
   ]
  },
  {
   "cell_type": "code",
   "execution_count": 566,
   "metadata": {},
   "outputs": [
    {
     "name": "stdout",
     "output_type": "stream",
     "text": [
      "[126.64514289629, 127.2811865169188, 143.99178058790466, 142.1425235870092, 145.8307830597511, 146.2142155259393]\n"
     ]
    }
   ],
   "source": [
    "o1 = {'Ireland': 4, 'New Zealand': 3, 'Scotland': 2, 'Italy': 2, 'Wales': 2, 'Canada': 1, 'England': 1, 'France': 1}\n",
    "o2 = {'New Zealand': 4, 'Ireland': 3, 'South Africa': 2, 'Argentina': 2, 'Wales': 2, 'France': 1, 'Tonga': 1, 'Georgia': 1}\n",
    "o3 = {'New Zealand': 4, 'South Africa': 4, 'England': 3, 'Wales': 3, 'Ireland': 1, 'Scotland': 1}\n",
    "o4 = {'New Zealand': 4, 'England': 4, 'South Africa': 4, 'Wales': 2, 'France': 1, 'Scotland': 1}\n",
    "o5 = {'New Zealand': 4, 'South Africa': 4, 'Wales': 3, 'England': 2, 'Ireland': 2, 'Australia': 1}\n",
    "o6 = {'New Zealand': 4, 'England': 4, 'South Africa': 4, 'Wales': 2, 'Ireland': 2}\n",
    "\n",
    "options = [o1,o2,o3,o4,o5,o6]\n",
    "\n",
    "all_tactics = [[3,5,5,2,3]] # Change this here based on office tactic proportions\n",
    "scores = [0,0,0,0,0,0]\n",
    "\n",
    "for i,shares in enumerate(options):\n",
    "    for tactics in all_tactics:  \n",
    "        scores[i] += run_game(tactics, shares, 100, 10, True)\n",
    "        \n",
    "print(scores)\n"
   ]
  }
 ],
 "metadata": {
  "kernelspec": {
   "display_name": "Python 3",
   "language": "python",
   "name": "python3"
  },
  "language_info": {
   "codemirror_mode": {
    "name": "ipython",
    "version": 3
   },
   "file_extension": ".py",
   "mimetype": "text/x-python",
   "name": "python",
   "nbconvert_exporter": "python",
   "pygments_lexer": "ipython3",
   "version": "3.7.1"
  }
 },
 "nbformat": 4,
 "nbformat_minor": 2
}
