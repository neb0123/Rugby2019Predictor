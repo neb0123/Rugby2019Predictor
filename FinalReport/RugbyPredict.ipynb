{
 "cells": [
  {
   "cell_type": "code",
   "execution_count": 42,
   "metadata": {},
   "outputs": [],
   "source": [
    "from itertools import combinations\n",
    "from collections import Counter\n",
    "import random\n",
    "import numpy as np\n",
    "import pandas as pd\n",
    "import pickle\n",
    "import matplotlib.pyplot as plt\n",
    "from IPython.display import Image\n",
    "from IPython.core.display import HTML "
   ]
  },
  {
   "cell_type": "markdown",
   "metadata": {},
   "source": [
    "## Rugby World Cup 2019 - Office Shares Game"
   ]
  },
  {
   "cell_type": "markdown",
   "metadata": {},
   "source": [
    "In this project, we will try and predict the best shares to buy in an office competition, based on the rugby 2019 world cup."
   ]
  },
  {
   "cell_type": "markdown",
   "metadata": {},
   "source": [
    "### Basics:"
   ]
  },
  {
   "cell_type": "markdown",
   "metadata": {},
   "source": [
    "Entrants ‘buy shares’ in teams. Every time a team wins a match, it gets a certain number of points. The points are distributed amongst the shareholders, proportionate to the number of shares they have bought.\n",
    "\n",
    "Each entrant may buy 16 shares. You can take at most only 4 shares in any one team. There are no other restrictions. The number of shares per team is not fixed; the better teams will earn more points, but those points are likely to be spread among more shares. Shares cannot be ‘traded’ once the deadline has passed."
   ]
  },
  {
   "cell_type": "markdown",
   "metadata": {},
   "source": [
    "For those not so familiar with the world cup (or even with rugby in general, like me!), the world cup begins with a pool stage where the 20 teams are divided into 4 pools of 5 teams each. These pools are as follows:"
   ]
  },
  {
   "cell_type": "code",
   "execution_count": 2,
   "metadata": {},
   "outputs": [
    {
     "data": {
      "text/html": [
       "<img src=\"https://ik.imagekit.io/rti/wp-content/uploads/2018/01/Rugby-World-Cup-Pools-Table.png\" width=\"400\"/>"
      ],
      "text/plain": [
       "<IPython.core.display.Image object>"
      ]
     },
     "execution_count": 2,
     "metadata": {},
     "output_type": "execute_result"
    }
   ],
   "source": [
    "Image(url= \"https://ik.imagekit.io/rti/wp-content/uploads/2018/01/Rugby-World-Cup-Pools-Table.png\", width=400)"
   ]
  },
  {
   "cell_type": "markdown",
   "metadata": {},
   "source": [
    "Within a pool, each team plays every other team exactly once (so 10 games in total), the teams finishing in the top two places of each pool advance to the quarter-finals. There are various tie-breaking criteria (see https://en.wikipedia.org/wiki/2019_Rugby_World_Cup#Pool_stage), but for simplicity, we will ignore these and instead decide a tie break situation with uniform randomness."
   ]
  },
  {
   "cell_type": "markdown",
   "metadata": {},
   "source": [
    "After the pool stage, it is then a simple knock out: quarter-finals, semi-finals and then finals (with an extra game to decide third place). "
   ]
  },
  {
   "cell_type": "markdown",
   "metadata": {},
   "source": [
    "The specific points on offer in the office shares competition are as follows:\n",
    "\n",
    "· Pool stage draw: 15 points\n",
    "\n",
    "· Pool stage win: 30 points\n",
    "\n",
    "· Pool runner-up: 15 points\n",
    "\n",
    "· Pool winner: 30 points\n",
    "\n",
    "· Q-final win: 40 points\n",
    "\n",
    "· 3rd place play-off win: 40 points\n",
    "\n",
    "· S-final win: 80 points\n",
    "\n",
    "· World Cup winner: 120 points\n",
    "\n",
    "Hence the total number of points on offer is given by: (4 pools * [{10 games * (30)} + 30+15] + 4 qfs * 40 + 1 bronze * 40 + 2 sfs * 80 + 1 final * 120)"
   ]
  },
  {
   "cell_type": "code",
   "execution_count": 3,
   "metadata": {},
   "outputs": [
    {
     "name": "stdout",
     "output_type": "stream",
     "text": [
      "Total points: 1860\n"
     ]
    }
   ],
   "source": [
    "print('Total points:', 4 * (10*(30) + 45) + 4*40 + 40 + 2*80 + 120)"
   ]
  },
  {
   "cell_type": "markdown",
   "metadata": {},
   "source": [
    "The number of points an individual gets is then: (Points awarded to a team) x (Number of shares you own in the team) / (Total number of shares in the team)"
   ]
  },
  {
   "cell_type": "markdown",
   "metadata": {},
   "source": [
    "### Odds of Winning"
   ]
  },
  {
   "cell_type": "markdown",
   "metadata": {},
   "source": [
    "The first step we take is to collect a set of odds that each team has of winning in their pool and in the tournament overall. The odds associated to each team, written as [a,b,c] = ['Odds of winning pool','Overall exchange odds','Overall sports book odds'] are:"
   ]
  },
  {
   "cell_type": "code",
   "execution_count": 4,
   "metadata": {},
   "outputs": [],
   "source": [
    "PoolA = {'Ireland':[1.35,12.5,10], 'Scotland':[4.6,95,51], 'Japan':[21,290,201], 'Russia':[500,1000,2001], 'Samoa':[200,1000,1001]}\n",
    "PoolB = {'New Zealand':[1.39,2.56,2.37], 'South Africa':[3.55,5.4,5], 'Italy':[180,1000,751], 'Namibia':[500,1000,5001], 'Canada':[500,1000,2001]}\n",
    "PoolC = {'England':[1.35,6,5], 'France':[5.9,36,26], 'Argentina':[7.8,70,51], 'Tonga':[500,1000,1001], 'USA':[500,1000,2001]}\n",
    "PoolD = {'Wales':[1.76,14,12], 'Australia':[2.3,18.5,17], 'Fiji':[40,520,501], 'Georgia':[500,1000,751], 'Uruguay':[600,1000,5001]}"
   ]
  },
  {
   "cell_type": "code",
   "execution_count": 5,
   "metadata": {},
   "outputs": [
    {
     "data": {
      "text/html": [
       "<img src=\"https://www.ruck.co.uk/wp-content/uploads/2018/03/france.png\" width=\"700\"/>"
      ],
      "text/plain": [
       "<IPython.core.display.Image object>"
      ]
     },
     "execution_count": 5,
     "metadata": {},
     "output_type": "execute_result"
    }
   ],
   "source": [
    "Image(url= \"https://www.ruck.co.uk/wp-content/uploads/2018/03/france.png\", width=700)"
   ]
  },
  {
   "cell_type": "markdown",
   "metadata": {},
   "source": [
    "We also convert these odds into normalised probabilities using the following function:"
   ]
  },
  {
   "cell_type": "code",
   "execution_count": 6,
   "metadata": {},
   "outputs": [],
   "source": [
    "## Normalises a pool dictionary\n",
    "def Pnorm(pool):\n",
    "    total = sum([1 / s[0] for s in pool.values()])\n",
    "    for team in pool.keys():\n",
    "        pool[team][0] = ((1 / pool[team][0])) / total\n",
    "    return pool"
   ]
  },
  {
   "cell_type": "markdown",
   "metadata": {},
   "source": [
    "We normalise and also combine all pools together into a tournament dictionary."
   ]
  },
  {
   "cell_type": "code",
   "execution_count": 7,
   "metadata": {},
   "outputs": [],
   "source": [
    "PoolA, PoolB, PoolC, PoolD = Pnorm(PoolA), Pnorm(PoolB), Pnorm(PoolC), Pnorm(PoolD)\n",
    "P = [PoolA, PoolB, PoolC, PoolD]\n",
    "P_dic = {**PoolA, **PoolB, **PoolC, **PoolD}\n",
    "All = Pnorm(dict(zip(P_dic.keys(), [[(k[1]+k[2])/2] for k in P_dic.values()])))"
   ]
  },
  {
   "cell_type": "markdown",
   "metadata": {},
   "source": [
    "It will also be useful to have a 'Normalisation pool'. This is an artificial pool created with one team from each of the other pools:"
   ]
  },
  {
   "cell_type": "code",
   "execution_count": 8,
   "metadata": {},
   "outputs": [],
   "source": [
    "NormPool = Pnorm(dict(zip([list(pool.keys())[0] for pool in P],[[(list(pool.values())[0][1]+list(pool.values())[0][2])/2] for pool in P])))"
   ]
  },
  {
   "cell_type": "code",
   "execution_count": 9,
   "metadata": {},
   "outputs": [
    {
     "name": "stdout",
     "output_type": "stream",
     "text": [
      "{'Ireland': [0.11799780822238802], 'New Zealand': [0.5385295507106959], 'England': [0.2413591531821573], 'Wales': [0.10211348788475887]}\n"
     ]
    }
   ],
   "source": [
    "print(NormPool)"
   ]
  },
  {
   "cell_type": "markdown",
   "metadata": {},
   "source": [
    "We can now take a look at the chances each team has of winning overall (coloured by pool):"
   ]
  },
  {
   "cell_type": "code",
   "execution_count": 10,
   "metadata": {},
   "outputs": [
    {
     "data": {
      "image/png": "[encoded data removed]",
      "text/plain": [
       "<Figure size 2016x360 with 1 Axes>"
      ]
     },
     "metadata": {
      "needs_background": "light"
     },
     "output_type": "display_data"
    }
   ],
   "source": [
    "total_prob = sorted(All, key=lambda k: All[k][0], reverse=True)\n",
    "plt.figure(figsize=(28,5))\n",
    "c0, c1, c2, c3 = 'deepskyblue', 'lightcoral', 'springgreen', 'blueviolet'\n",
    "plt.bar(total_prob, [All[k][0] for k in total_prob], color = [c1,c1,c2,c0,c3,c3,c3,c2,c2,c0,c0,c3,c1,c3,c0,c2,c0,c1,c2,c1,c3])\n",
    "plt.show()"
   ]
  },
  {
   "cell_type": "markdown",
   "metadata": {},
   "source": [
    "From this very basic analysis, we may expect most of the shares to be bought in teams such as England, Ireland, Wales, Australia etc. \n",
    "\n",
    "i.e. Most people may go for teams with good odds that they don't think everyone else will go for.\n",
    "\n",
    "Then again, will people assume others are doing this and hence buy shares in New Zealand..?"
   ]
  },
  {
   "cell_type": "markdown",
   "metadata": {},
   "source": [
    "### ELOs"
   ]
  },
  {
   "cell_type": "markdown",
   "metadata": {},
   "source": [
    "Our approach to predict good shares to go for will involve running multiple tournament simulations and, based on a large set of shares we predict others will go for, we can then identify a good set of 16 shares an individual could pick.\n",
    "\n",
    "In order to run tournament simulations, we require probabilities of a winner when any 2 teams play each other. To get these, we will try to estimate ELO ratings for each team based on the odds we have of them winning pools/the tournament. \n",
    "\n",
    "If you are not familiar with ELO ratings: https://en.wikipedia.org/wiki/Elo_rating_system"
   ]
  },
  {
   "cell_type": "code",
   "execution_count": 11,
   "metadata": {},
   "outputs": [],
   "source": [
    "## Probability that TeamA wins:\n",
    "def Exp(RankA, RankB):\n",
    "    return 1 / (1 + 10**((RankB - RankA)/400))"
   ]
  },
  {
   "cell_type": "markdown",
   "metadata": {},
   "source": [
    "The following code starts a set of teams as all having an ELO of 2000. It then plays a set number of games between the teams (on the first run through we expect them to all win approximately the same number of games). Then, based on the odds we have of teams winning, it alters the ELO ratings. Then repeat this whole process multiple times."
   ]
  },
  {
   "cell_type": "code",
   "execution_count": 12,
   "metadata": {},
   "outputs": [],
   "source": [
    "def calc_elo(pool, N = 2000, it = 10**5, show = False):\n",
    "    n = len(pool)\n",
    "    elos = dict(zip(pool.keys(), [2000 for _ in range(n)]))\n",
    "    \n",
    "    for k in range(N):\n",
    "        if show == True and k%5 == 0:\n",
    "            print('After', k, 'steps:')\n",
    "            print(elos)\n",
    "            print('\\n')\n",
    "            \n",
    "        wins = dict(zip(pool.keys(), [0 for _ in range(n)]))\n",
    "        for i in range(it):\n",
    "            score = dict(zip(pool.keys(),[0 for _ in pool]))\n",
    "            for game in combinations(score.keys(), 2):\n",
    "                win = game[0] if random.random() < Exp(elos[game[0]], elos[game[1]]) else game[1]\n",
    "                score[win] += 1\n",
    "            order = [score[k] for k in sorted(score, key=lambda k: score[k], reverse=True)]\n",
    "            max_score = order[0]# Best score\n",
    "            wins[random.choice([team for team in score.keys() if score[team] == max_score])] += 1   # Who won\n",
    "\n",
    "        odds = [it * s[0] for s in pool.values()]\n",
    "\n",
    "        for i, team in enumerate(pool):\n",
    "            elos[team] += (100 / it) * (odds[i] - list(wins.values())[i])\n",
    "\n",
    "    return elos"
   ]
  },
  {
   "cell_type": "code",
   "execution_count": 13,
   "metadata": {},
   "outputs": [
    {
     "name": "stdout",
     "output_type": "stream",
     "text": [
      "After 0 steps:\n",
      "{'Ireland': 2000, 'Scotland': 2000, 'Japan': 2000, 'Russia': 2000, 'Samoa': 2000}\n",
      "\n",
      "\n",
      "After 5 steps:\n",
      "{'Ireland': 2172.580203909478, 'Scotland': 2012.756114190825, 'Japan': 1949.867748822752, 'Russia': 1931.7534094505556, 'Samoa': 1933.0425236263889}\n",
      "\n",
      "\n"
     ]
    },
    {
     "data": {
      "text/plain": [
       "{'Ireland': 2226.5894078189563,\n",
       " 'Scotland': 2034.36622838165,\n",
       " 'Japan': 1933.6514976455044,\n",
       " 'Russia': 1901.4178189011116,\n",
       " 'Samoa': 1903.9750472527778}"
      ]
     },
     "execution_count": 13,
     "metadata": {},
     "output_type": "execute_result"
    }
   ],
   "source": [
    "calc_elo(PoolA, N=10, show=True)"
   ]
  },
  {
   "cell_type": "markdown",
   "metadata": {},
   "source": [
    "So we run this to calculate ELOs for each pool (<font color='red'>__WARNING__</font>: this will take a while to run with the set number of iterations, hence we comment out):"
   ]
  },
  {
   "cell_type": "code",
   "execution_count": 14,
   "metadata": {},
   "outputs": [],
   "source": [
    "#PoolA_elo = calc_elo(PoolA)\n",
    "#PoolB_elo = calc_elo(PoolB)\n",
    "#PoolC_elo = calc_elo(PoolC)\n",
    "#PoolD_elo = calc_elo(PoolD)\n",
    "#Norm_elo = calc_elo(NormPool)"
   ]
  },
  {
   "cell_type": "markdown",
   "metadata": {},
   "source": [
    "The following will save the calculated elos:"
   ]
  },
  {
   "cell_type": "code",
   "execution_count": 15,
   "metadata": {},
   "outputs": [],
   "source": [
    "#with open('PoolA_elo.pickle', 'wb') as handle:\n",
    "#    pickle.dump(PoolA_elo, handle, protocol=pickle.HIGHEST_PROTOCOL)\n",
    "#with open('PoolB_elo.pickle', 'wb') as handle:\n",
    "#    pickle.dump(PoolB_elo, handle, protocol=pickle.HIGHEST_PROTOCOL)\n",
    "#with open('PoolC_elo.pickle', 'wb') as handle:\n",
    "#    pickle.dump(PoolC_elo, handle, protocol=pickle.HIGHEST_PROTOCOL)\n",
    "#with open('PoolD_elo.pickle', 'wb') as handle:\n",
    "#    pickle.dump(PoolD_elo, handle, protocol=pickle.HIGHEST_PROTOCOL)\n",
    "#with open('Norm_elo.pickle', 'wb') as handle:\n",
    "#    pickle.dump(Norm_elo, handle, protocol=pickle.HIGHEST_PROTOCOL)"
   ]
  },
  {
   "cell_type": "code",
   "execution_count": 16,
   "metadata": {},
   "outputs": [],
   "source": [
    "PoolA_elo = pickle.load(open('PoolA_elo.pickle', 'rb'))\n",
    "PoolB_elo = pickle.load(open('PoolB_elo.pickle', 'rb'))\n",
    "PoolC_elo = pickle.load(open('PoolC_elo.pickle', 'rb'))\n",
    "PoolD_elo = pickle.load(open('PoolD_elo.pickle', 'rb'))\n",
    "Norm_elo = pickle.load(open('Norm_elo.pickle', 'rb'))"
   ]
  },
  {
   "cell_type": "markdown",
   "metadata": {},
   "source": [
    "Giving us the following ELOs:"
   ]
  },
  {
   "cell_type": "code",
   "execution_count": 17,
   "metadata": {},
   "outputs": [
    {
     "name": "stdout",
     "output_type": "stream",
     "text": [
      "['Ireland', 'Scotland', 'Japan', 'Russia', 'Samoa']\n",
      "[2364, 2164, 1972, 1719, 1781] \n",
      "\n",
      "['New Zealand', 'South Africa', 'Italy', 'Namibia', 'Canada']\n",
      "[2446, 2286, 1806, 1731, 1730] \n",
      "\n",
      "['England', 'France', 'Argentina', 'Tonga', 'USA']\n",
      "[2354, 2123, 2086, 1719, 1719] \n",
      "\n",
      "['Wales', 'Australia', 'Fiji', 'Georgia', 'Uruguay']\n",
      "[2346, 2301, 1921, 1722, 1710] \n",
      "\n",
      "['Ireland', 'New Zealand', 'England', 'Wales']\n",
      "[1929, 2139, 2019, 1913] \n",
      "\n"
     ]
    }
   ],
   "source": [
    "for pool in [PoolA_elo, PoolB_elo, PoolC_elo, PoolD_elo, Norm_elo]:\n",
    "    print([k for k in pool.keys()])\n",
    "    print([round(v) for v in pool.values()], '\\n')"
   ]
  },
  {
   "cell_type": "markdown",
   "metadata": {},
   "source": [
    "We may now normalise all ELOs based on the normilisation pool we made:"
   ]
  },
  {
   "cell_type": "code",
   "execution_count": 18,
   "metadata": {},
   "outputs": [],
   "source": [
    "def Tnorm(pool, e = 200):\n",
    "    tmp = pool.copy()\n",
    "    for k in pool:\n",
    "        team = list(pool.keys())[0]\n",
    "        tmp[k] += Norm_elo[team] - pool[team] + e\n",
    "    return tmp\n",
    "\n",
    "elo = {**Tnorm(PoolA_elo),**Tnorm(PoolB_elo),**Tnorm(PoolC_elo),**Tnorm(PoolD_elo)}\n",
    "elo = dict(zip(elo.keys(), [round(e) for e in elo.values()]))"
   ]
  },
  {
   "cell_type": "markdown",
   "metadata": {},
   "source": [
    "So we now have a full set of ELOs for every team:"
   ]
  },
  {
   "cell_type": "code",
   "execution_count": 19,
   "metadata": {},
   "outputs": [
    {
     "name": "stdout",
     "output_type": "stream",
     "text": [
      "{'Ireland': 2129, 'Scotland': 1929, 'Japan': 1738, 'Russia': 1485, 'Samoa': 1546, 'New Zealand': 2339, 'South Africa': 2179, 'Italy': 1698, 'Namibia': 1623, 'Canada': 1623, 'England': 2219, 'France': 1987, 'Argentina': 1950, 'Tonga': 1583, 'USA': 1583, 'Wales': 2113, 'Australia': 2068, 'Fiji': 1688, 'Georgia': 1489, 'Uruguay': 1477}\n"
     ]
    }
   ],
   "source": [
    "print(elo)"
   ]
  },
  {
   "cell_type": "markdown",
   "metadata": {},
   "source": [
    "### Tournament Simulation"
   ]
  },
  {
   "cell_type": "markdown",
   "metadata": {},
   "source": [
    "We are now ready to define the tournament. The following code simulates one run through of the world cup and outputs a dictionary of scores for each team (based on the Office Shares Game point system):"
   ]
  },
  {
   "cell_type": "code",
   "execution_count": 20,
   "metadata": {},
   "outputs": [],
   "source": [
    "def tournament():\n",
    "    ## Set up a dict containing number of wins\n",
    "    PoolA = {'Ireland':0, 'Scotland':0, 'Japan':0, 'Russia':0, 'Samoa':0}\n",
    "    PoolB = {'New Zealand':0, 'South Africa':0, 'Italy':0, 'Namibia':0, 'Canada':0}\n",
    "    PoolC = {'England':0, 'France':0, 'Argentina':0, 'Tonga':0, 'USA':0}\n",
    "    PoolD = {'Wales':0, 'Australia':0, 'Fiji':0, 'Georgia':0, 'Uruguay':0}\n",
    "    \n",
    "    ## Describe the order of play for the quarter/semi-finals\n",
    "    quarter_play = [(4,7), (1,2), (6,5), (0,3)]\n",
    "    semi_play = [(0,1),(2,3)]\n",
    "    \n",
    "    ## Set up the quarter/semi/final lists:\n",
    "    quarter = []\n",
    "    semi = []\n",
    "    final = []\n",
    "    bronze = []\n",
    "    \n",
    "    ## We play the pool games first:\n",
    "    for pool in [PoolA, PoolB, PoolC, PoolD]:\n",
    "        for game in combinations(pool.keys(), 2):\n",
    "            win = game[0] if random.random() < Exp(elo[game[0]], elo[game[1]]) else game[1]\n",
    "            pool[win] += 30\n",
    "        order = [pool[k] for k in sorted(pool, key=lambda k: pool[k], reverse=True)]\n",
    "        max_score = order[0]# Best score\n",
    "        winner = random.choice([team for team in pool.keys() if pool[team] == max_score])   # Who won\n",
    "        quarter.append(winner) # Add to quarter finals\n",
    "        second_score = order[1]   \n",
    "        second = random.choice([team for team in pool.keys() if pool[team] == second_score and team != winner])   # Who won              # Who came second\n",
    "        quarter.append(second) # Add to quarter finals\n",
    "        pool[winner] += 30  # Winner gets 30pts\n",
    "        pool[second] += 15  # Runner up gets 15pts\n",
    "        \n",
    "    ## Combine the pools into a full set:\n",
    "    Wins = {**PoolA, **PoolB, **PoolC, **PoolD}\n",
    "    \n",
    "    ## Next play the quarter finals:\n",
    "    for qp in quarter_play:\n",
    "        teamA = quarter[qp[0]]\n",
    "        teamB = quarter[qp[1]]\n",
    "        winner = teamA if random.random() < Exp(elo[teamA], elo[teamB]) else teamB\n",
    "        Wins[winner] += 40\n",
    "        semi.append(winner)\n",
    "    \n",
    "    ## Next play the semi finals:\n",
    "    for sp in semi_play:\n",
    "        teamA = semi[sp[0]]\n",
    "        teamB = semi[sp[1]]\n",
    "        winner, loser = (teamA, teamB) if random.random() < Exp(elo[teamA], elo[teamB]) else (teamB, teamA)\n",
    "        Wins[winner] += 80\n",
    "        final.append(winner)\n",
    "        bronze.append(loser)\n",
    "        \n",
    "    ## Play for bronze:\n",
    "    winner = bronze[0] if random.random() < Exp(elo[bronze[0]], elo[bronze[1]]) else bronze[1]\n",
    "    Wins[winner] += 40\n",
    "    \n",
    "    ## Play the final:\n",
    "    winner = final[0] if random.random() < Exp(elo[final[0]], elo[final[1]]) else final[1]\n",
    "    Wins[winner] += 120\n",
    "    \n",
    "    return({team:Wins[team] for team in Wins.keys()})"
   ]
  },
  {
   "cell_type": "markdown",
   "metadata": {},
   "source": [
    "A quick example:"
   ]
  },
  {
   "cell_type": "code",
   "execution_count": 21,
   "metadata": {},
   "outputs": [
    {
     "data": {
      "text/plain": [
       "{'Ireland': 150,\n",
       " 'Scotland': 105,\n",
       " 'Japan': 60,\n",
       " 'Russia': 0,\n",
       " 'Samoa': 30,\n",
       " 'New Zealand': 390,\n",
       " 'South Africa': 225,\n",
       " 'Italy': 60,\n",
       " 'Namibia': 30,\n",
       " 'Canada': 0,\n",
       " 'England': 190,\n",
       " 'France': 185,\n",
       " 'Argentina': 60,\n",
       " 'Tonga': 0,\n",
       " 'USA': 30,\n",
       " 'Wales': 150,\n",
       " 'Australia': 105,\n",
       " 'Fiji': 60,\n",
       " 'Georgia': 30,\n",
       " 'Uruguay': 0}"
      ]
     },
     "execution_count": 21,
     "metadata": {},
     "output_type": "execute_result"
    }
   ],
   "source": [
    "tournament()"
   ]
  },
  {
   "cell_type": "markdown",
   "metadata": {},
   "source": [
    "We may now score a tournament based on a chosen set of shares by the individual and the group:"
   ]
  },
  {
   "cell_type": "code",
   "execution_count": 22,
   "metadata": {},
   "outputs": [],
   "source": [
    "def score(shares, total_shares, T):\n",
    "    total = 0\n",
    "    for team in shares.keys():\n",
    "        total += T[team] * (shares[team] / total_shares[team])\n",
    "    return total"
   ]
  },
  {
   "cell_type": "markdown",
   "metadata": {},
   "source": [
    "And so, given we run a tournament and own the shares given by 'shares', if everyone else owns the shares given by 'total_shares', then we can work out our score. For example:"
   ]
  },
  {
   "cell_type": "code",
   "execution_count": 23,
   "metadata": {},
   "outputs": [
    {
     "data": {
      "text/plain": [
       "138.3904761904762"
      ]
     },
     "execution_count": 23,
     "metadata": {},
     "output_type": "execute_result"
    }
   ],
   "source": [
    "T = tournament()\n",
    "shares = {'England':4, 'New Zealand':2, 'South Africa':2, 'Fiji':4, 'France':4}\n",
    "total_shares = {'Ireland': 10, 'Scotland': 3, 'Japan': 20, 'Russia': 5, 'Samoa': 8, 'New Zealand': 30, 'South Africa': 50, 'Italy': 12, 'Namibia': 0, 'Canada': 3, 'England': 35, 'France': 30, 'Argentina': 30, 'Tonga': 4, 'USA': 5, 'Wales': 30, 'Australia': 3, 'Fiji': 3, 'Georgia': 3, 'Uruguay': 6}\n",
    "score(shares, total_shares, T)"
   ]
  },
  {
   "cell_type": "markdown",
   "metadata": {},
   "source": [
    "More interestingly we can now view multiple scores for the same set of shares:"
   ]
  },
  {
   "cell_type": "code",
   "execution_count": 24,
   "metadata": {},
   "outputs": [
    {
     "data": {
      "image/png": "[encoded data removed]",
      "text/plain": [
       "<Figure size 432x288 with 1 Axes>"
      ]
     },
     "metadata": {
      "needs_background": "light"
     },
     "output_type": "display_data"
    }
   ],
   "source": [
    "d = []\n",
    "for i in range(10**5):\n",
    "    T = tournament()\n",
    "    shares = {'England':4, 'New Zealand':2, 'South Africa':2, 'Fiji':4, 'France':4}\n",
    "    total_shares = {'Ireland': 10, 'Scotland': 3, 'Japan': 20, 'Russia': 5, 'Samoa': 8, 'New Zealand': 30, 'South Africa': 50, 'Italy': 12, 'Namibia': 0, 'Canada': 3, 'England': 35, 'France': 30, 'Argentina': 30, 'Tonga': 4, 'USA': 5, 'Wales': 30, 'Australia': 3, 'Fiji': 3, 'Georgia': 3, 'Uruguay': 6}\n",
    "    d.append(score(shares, total_shares, T))\n",
    "    \n",
    "plt.hist(d, bins = 300)\n",
    "plt.xlabel('Score')\n",
    "plt.ylabel('Frequency')\n",
    "plt.show()"
   ]
  },
  {
   "cell_type": "markdown",
   "metadata": {},
   "source": [
    "In the above example, we see 2 main peaks at about 100 and 150. Perhaps these correspond to England or New Zealand winning."
   ]
  },
  {
   "cell_type": "markdown",
   "metadata": {},
   "source": [
    "### Tactics"
   ]
  },
  {
   "cell_type": "markdown",
   "metadata": {},
   "source": [
    "In order to pick shares wisely, we need to have some sort of model of how other members of the office will pick shares. Thus, we define a few simple tactics they might employ to pick teams:"
   ]
  },
  {
   "cell_type": "code",
   "execution_count": 25,
   "metadata": {},
   "outputs": [],
   "source": [
    "## Go for full 4 shares of 4 \"good\" teams\n",
    "def good_tactic():\n",
    "    good_teams = ['New Zealand', 'England', 'Wales', 'South Africa', 'Ireland', 'Australia']\n",
    "    return Counter({r:4 for r in random.sample(good_teams, 4)})\n",
    "\n",
    "## Spread out shares on \"good\" teams\n",
    "def spread_tactic():\n",
    "    good_teams = ['New Zealand', 'England', 'Wales', 'South Africa', 'Ireland', 'Australia']\n",
    "    shares = {team:4 for team in good_teams} # Start with all shares on 4\n",
    "    while sum([i for i in shares.values()]) != 16:\n",
    "        team = random.choice([i for i in shares.keys()])     # Choose a random team\n",
    "        shares[team] -= 1               # Decrease the share by 1\n",
    "        if shares[team] == 0:           # If it hits 0, delete it\n",
    "            del shares[team]\n",
    "    return Counter(shares)\n",
    "    \n",
    "## Return shares of random teams\n",
    "def random_tactic():\n",
    "    shares = {team:4 for team in All.keys()} # Start with all shares on 4\n",
    "    while sum([i for i in shares.values()]) != 16:\n",
    "        team = random.choice([i for i in shares.keys()])     # Choose a random team\n",
    "        shares[team] -= 1               # Decrease the share by 1\n",
    "        if shares[team] == 0:           # If it hits 0, delete it\n",
    "            del shares[team]\n",
    "    return Counter(shares)\n",
    "    \n",
    "## Return shares of \"middle teams\"\n",
    "def middle_tactic():\n",
    "    middle_teams = ['Australia', 'France', 'Scotland', 'Argentina', 'Japan', 'Fiji']\n",
    "    shares = {team:4 for team in middle_teams} # Start with all shares on 4\n",
    "    while sum([i for i in shares.values()]) != 16:\n",
    "        team = random.choice([i for i in shares.keys()])     # Choose a random team\n",
    "        shares[team] -= 1               # Decrease the share by 1\n",
    "        if shares[team] == 0:           # If it hits 0, delete it\n",
    "            del shares[team]\n",
    "    return Counter(shares)\n",
    "    \n",
    "## Go for full 4 shares of 4 teams across pools\n",
    "def pool_tactic():\n",
    "    shares = {}\n",
    "    for pool in [PoolA, PoolB, PoolC, PoolD]:\n",
    "        team = random.choice([i for i in pool.keys()])\n",
    "        shares[team] = 4\n",
    "    return Counter(shares)\n",
    "\n",
    "## Ben tactic: 4 on NZ and SA.\n",
    "def ben_tactic():\n",
    "    good_teams = All.keys()\n",
    "    shares = {team:4 for team in good_teams} # Start with all shares on 4\n",
    "    while sum([i for i in shares.values()]) != 16:\n",
    "        team = random.choice([i for i in shares.keys()])     # Choose a random team\n",
    "        if team == 'New Zealand' or team == 'South Africa':\n",
    "            continue\n",
    "        shares[team] -= 1               # Decrease the share by 1\n",
    "        if shares[team] == 0:           # If it hits 0, delete it\n",
    "            del shares[team]\n",
    "    return Counter(shares)"
   ]
  },
  {
   "cell_type": "code",
   "execution_count": 26,
   "metadata": {},
   "outputs": [
    {
     "data": {
      "text/plain": [
       "Counter({'Australia': 3,\n",
       "         'France': 2,\n",
       "         'Scotland': 3,\n",
       "         'Argentina': 2,\n",
       "         'Japan': 3,\n",
       "         'Fiji': 3})"
      ]
     },
     "execution_count": 26,
     "metadata": {},
     "output_type": "execute_result"
    }
   ],
   "source": [
    "middle_tactic()"
   ]
  },
  {
   "cell_type": "markdown",
   "metadata": {},
   "source": [
    "Now we can form a set of full office shares. For example, if one person plays each of the 6 tactics:"
   ]
  },
  {
   "cell_type": "code",
   "execution_count": 27,
   "metadata": {},
   "outputs": [
    {
     "data": {
      "image/png": "[encoded data removed]",
      "text/plain": [
       "<Figure size 2016x360 with 1 Axes>"
      ]
     },
     "metadata": {
      "needs_background": "light"
     },
     "output_type": "display_data"
    }
   ],
   "source": [
    "shares = good_tactic() + spread_tactic() + middle_tactic() + random_tactic() + pool_tactic() + ben_tactic()\n",
    "plt.figure(figsize=(28,5))\n",
    "plt.bar(total_prob,[shares[k] for k in total_prob], color = 'r')\n",
    "plt.show()"
   ]
  },
  {
   "cell_type": "markdown",
   "metadata": {},
   "source": [
    "This is something like what we may expect the distribution of shares to look like. However, this still remains one of the hardest things to model..."
   ]
  },
  {
   "cell_type": "markdown",
   "metadata": {},
   "source": [
    "### Office Shares Game"
   ]
  },
  {
   "cell_type": "markdown",
   "metadata": {},
   "source": [
    "We are now ready to run multiple games to try and predict a good set of shares to go for, given a set of tactics.\n",
    "\n",
    "Let $n$ be the number of different samples of share distributions we take and $m$ be the number of tournaments we play for each sample."
   ]
  },
  {
   "cell_type": "code",
   "execution_count": 28,
   "metadata": {},
   "outputs": [],
   "source": [
    "def run_game(tactics, shares, n, m, details = False, stats = False):\n",
    "    S = []\n",
    "    for i in range(n):\n",
    "        total_shares = Counter(shares)\n",
    "        for _ in range(tactics[0]):\n",
    "            total_shares += good_tactic()\n",
    "        for _ in range(tactics[1]):\n",
    "            total_shares += spread_tactic()\n",
    "        for _ in range(tactics[2]):\n",
    "            total_shares += random_tactic()\n",
    "        for _ in range(tactics[3]):\n",
    "            total_shares += middle_tactic()\n",
    "        for _ in range(tactics[4]):\n",
    "            total_shares += pool_tactic()\n",
    "        for _ in range(tactics[5]):\n",
    "            total_shares += ben_tactic()\n",
    "            \n",
    "        for j in range(m):\n",
    "            T = tournament()\n",
    "            S.append(score(shares, total_shares, T))\n",
    "            \n",
    "        if details:\n",
    "            print('Total shares bought:')\n",
    "            plt.figure(figsize=(28,5))\n",
    "            plt.bar(total_prob,[total_shares[k] for k in total_prob], color = 'r')\n",
    "            plt.show()\n",
    "            \n",
    "    if details:\n",
    "        print('Scores:',S)\n",
    "        \n",
    "    if stats:\n",
    "        plt.hist(S, bins = 300, label = str(tactics))\n",
    "        plt.xlabel('Score')\n",
    "        plt.ylabel('Frequency')\n",
    "        #plt.title(tactics)\n",
    "        #plt.show()\n",
    "    \n",
    "    return sum(S) / len(S)"
   ]
  },
  {
   "cell_type": "markdown",
   "metadata": {},
   "source": [
    "For example:"
   ]
  },
  {
   "cell_type": "code",
   "execution_count": 30,
   "metadata": {},
   "outputs": [
    {
     "name": "stdout",
     "output_type": "stream",
     "text": [
      "Tactic: Counter({'Japan': 3, 'Argentina': 3, 'USA': 3, 'England': 2, 'Samoa': 1, 'Namibia': 1, 'Tonga': 1, 'Australia': 1, 'Georgia': 1})\n",
      "Total shares bought:\n"
     ]
    },
    {
     "data": {
      "image/png": "[encoded data removed]",
      "text/plain": [
       "<Figure size 2016x360 with 1 Axes>"
      ]
     },
     "metadata": {
      "needs_background": "light"
     },
     "output_type": "display_data"
    },
    {
     "name": "stdout",
     "output_type": "stream",
     "text": [
      "Scores: [171.8846153846154]\n"
     ]
    },
    {
     "data": {
      "text/plain": [
       "171.8846153846154"
      ]
     },
     "execution_count": 30,
     "metadata": {},
     "output_type": "execute_result"
    }
   ],
   "source": [
    "tactic = random_tactic()\n",
    "print('Tactic:', tactic)\n",
    "run_game([2,2,2,2,2,0], tactic, 1, 1, details = True)"
   ]
  },
  {
   "cell_type": "markdown",
   "metadata": {},
   "source": [
    "And so we can now run multiple games and see our score distribution:"
   ]
  },
  {
   "cell_type": "code",
   "execution_count": 31,
   "metadata": {},
   "outputs": [
    {
     "name": "stdout",
     "output_type": "stream",
     "text": [
      "Tactic: Counter({'Australia': 4, 'France': 3, 'South Africa': 2, 'Argentina': 2, 'New Zealand': 1, 'England': 1, 'Wales': 1, 'Georgia': 1, 'Uruguay': 1})\n"
     ]
    },
    {
     "data": {
      "text/plain": [
       "258.63483350221463"
      ]
     },
     "execution_count": 31,
     "metadata": {},
     "output_type": "execute_result"
    },
    {
     "data": {
      "image/png": "[encoded data removed]",
      "text/plain": [
       "<Figure size 432x288 with 1 Axes>"
      ]
     },
     "metadata": {
      "needs_background": "light"
     },
     "output_type": "display_data"
    }
   ],
   "source": [
    "tactic = random_tactic()\n",
    "print('Tactic:', tactic)\n",
    "run_game([1,1,1,1,1,1], tactic, 100, 100, stats = True)"
   ]
  },
  {
   "cell_type": "markdown",
   "metadata": {},
   "source": [
    "So, given we have predicted the office tactics well, we could expect to get approximately the average score outputed by run_game."
   ]
  },
  {
   "cell_type": "markdown",
   "metadata": {},
   "source": [
    "### Scenarios"
   ]
  },
  {
   "cell_type": "markdown",
   "metadata": {},
   "source": [
    "We are now ready to generate some \"good\" shares, based on predicted tactics by others. We will guess that the following scenarios may happen:"
   ]
  },
  {
   "cell_type": "code",
   "execution_count": 32,
   "metadata": {},
   "outputs": [],
   "source": [
    "## 10 entrants:\n",
    "Scenario1 = [1,5,1,1,1,1] # Most people go for \"good\" teams and spread\n",
    "Scenario2 = [1,1,1,6,1,0] # Most people go for \"middle\" teams\n",
    "Scenario3 = [1,1,6,1,1,0] # Most people go for random teams\n",
    "Scenario4 = [2,2,2,2,2,0] # A range of strategies\n",
    "\n",
    "# ------------------- #\n",
    "\n",
    "## 20 entrants:\n",
    "Scenario5 = [2*s for s in Scenario1] # Most people go for \"good\" teams and spread\n",
    "Scenario6 = [2*s for s in Scenario2] # Most people go for \"middle\" teams\n",
    "Scenario7 = [2*s for s in Scenario3] # Most people go for random teams\n",
    "Scenario8 = [2*s for s in Scenario4] # A range of strategiesm"
   ]
  },
  {
   "cell_type": "markdown",
   "metadata": {},
   "source": [
    "For each scenario, we will play $k$ random strategy against $n$ versions of that scenario, $m$ times, and see what the average score is. We will keep the top 3 strategies from each scenario."
   ]
  },
  {
   "cell_type": "code",
   "execution_count": 33,
   "metadata": {},
   "outputs": [],
   "source": [
    "def play_scenarios(n,m,k, progress = False):\n",
    "    Top_strats = []\n",
    "    for scenario in [Scenario1,Scenario2,Scenario3,Scenario4,Scenario5,Scenario6,Scenario7,Scenario8]:\n",
    "        top3 = [[None,0],[None,0],[None,0]]\n",
    "        for i in range(k):\n",
    "            shares = ben_tactic()\n",
    "            r_shares = random_tactic()\n",
    "            s = run_game(scenario, shares, n, m)\n",
    "            r = run_game(scenario, r_shares, n, m)\n",
    "            for j in range(3):\n",
    "                if s > top3[j][1]:\n",
    "                    top3[j][0] = shares\n",
    "                    top3[j][1] = s\n",
    "                    break\n",
    "            for j in range(3):\n",
    "                if r > top3[j][1]:\n",
    "                    top3[j][0] = r_shares\n",
    "                    top3[j][1] = r\n",
    "                    break\n",
    "        Top_strats.append(top3)\n",
    "        if progress:\n",
    "            print(top3[0])\n",
    "            print('\\n')\n",
    "    return Top_strats"
   ]
  },
  {
   "cell_type": "code",
   "execution_count": 34,
   "metadata": {},
   "outputs": [],
   "source": [
    "#Top = play_scenarios(100,100,200, progress = True)"
   ]
  },
  {
   "cell_type": "code",
   "execution_count": 35,
   "metadata": {},
   "outputs": [],
   "source": [
    "#with open('Top.pickle', 'wb') as handle:\n",
    "#    pickle.dump(Top, handle, protocol=pickle.HIGHEST_PROTOCOL)"
   ]
  },
  {
   "cell_type": "code",
   "execution_count": 36,
   "metadata": {},
   "outputs": [],
   "source": [
    "Top = pickle.load(open('Top.pickle', 'rb'))"
   ]
  },
  {
   "cell_type": "code",
   "execution_count": 37,
   "metadata": {},
   "outputs": [],
   "source": [
    "def plot_tactic(tactics):\n",
    "    n = len(tactics)\n",
    "    for i, tactic in enumerate(tactics):\n",
    "        fig = plt.figure(figsize=(20, 12))\n",
    "        plt.subplot(221)\n",
    "        run_game(Scenario1, tactic, 100, 100, stats = True)\n",
    "        run_game(Scenario2, tactic, 100, 100, stats = True)\n",
    "        run_game(Scenario3, tactic, 100, 100, stats = True)\n",
    "        run_game(Scenario4, tactic, 100, 100, stats = True)\n",
    "        plt.legend()\n",
    "        \n",
    "        plt.subplot(222)\n",
    "        run_game(Scenario5, tactic, 100, 100, stats = True)\n",
    "        run_game(Scenario6, tactic, 100, 100, stats = True)\n",
    "        run_game(Scenario7, tactic, 100, 100, stats = True)\n",
    "        run_game(Scenario8, tactic, 100, 100, stats = True)\n",
    "        plt.legend()\n",
    "\n",
    "        fig.suptitle(tactic)\n",
    "        fig.subplots_adjust(top=0.95)\n",
    "        plt.show()"
   ]
  },
  {
   "cell_type": "code",
   "execution_count": 38,
   "metadata": {
    "scrolled": false
   },
   "outputs": [
    {
     "data": {
      "image/png": "[encoded data removed]",
      "text/plain": [
       "<Figure size 1440x864 with 2 Axes>"
      ]
     },
     "metadata": {
      "needs_background": "light"
     },
     "output_type": "display_data"
    },
    {
     "data": {
      "image/png": "[encoded data removed]",
      "text/plain": [
       "<Figure size 1440x864 with 2 Axes>"
      ]
     },
     "metadata": {
      "needs_background": "light"
     },
     "output_type": "display_data"
    }
   ],
   "source": [
    "plot_tactic([s[0][0] for s in Top][0:2])"
   ]
  },
  {
   "cell_type": "markdown",
   "metadata": {},
   "source": [
    "Notice that on the 'ben_tactic' option, the blue and orange peeks are seperated most. This is due to this tactic doing well against people picking \"middle\" teams but not so good when everyone else picks \"good\" teams.\n",
    "\n",
    "However, when the random tactics do well, the blue and orange peaks are much closer together. "
   ]
  },
  {
   "cell_type": "markdown",
   "metadata": {},
   "source": [
    "### Expected Share Scores & Final Prediction"
   ]
  },
  {
   "cell_type": "markdown",
   "metadata": {},
   "source": [
    "Using similar code to before, but this time keeping track of how much a single share for each team was worth each tournament throughout the simulations - we can try and approximate the expected share scores for a given set of office tactics."
   ]
  },
  {
   "cell_type": "code",
   "execution_count": 39,
   "metadata": {},
   "outputs": [],
   "source": [
    "def find_shares(tactics, n, m):\n",
    "    S = []\n",
    "    scores = Counter(dict(zip(All.keys(), [0 for _ in range(len(All))])))\n",
    "    for i in range(n):\n",
    "        total_shares = Counter()\n",
    "        for _ in range(tactics[0]):\n",
    "            total_shares += good_tactic()\n",
    "        for _ in range(tactics[1]):\n",
    "            total_shares += spread_tactic()\n",
    "        for _ in range(tactics[2]):\n",
    "            total_shares += random_tactic()\n",
    "        for _ in range(tactics[3]):\n",
    "            total_shares += middle_tactic()\n",
    "        for _ in range(tactics[4]):\n",
    "            total_shares += pool_tactic()\n",
    "        for _ in range(tactics[5]):\n",
    "            total_shares += ben_tactic()\n",
    "            \n",
    "        for j in range(m):\n",
    "            T = tournament()\n",
    "            for team in T:\n",
    "                if total_shares[team] != 0:\n",
    "                    scores[team] += (1/total_shares[team]) * T[team]\n",
    "    \n",
    "    for k in scores:\n",
    "        scores[k] /= n*m\n",
    "    \n",
    "    return scores "
   ]
  },
  {
   "cell_type": "markdown",
   "metadata": {},
   "source": [
    "Printing these out in a nice table for each scenario:"
   ]
  },
  {
   "cell_type": "code",
   "execution_count": 40,
   "metadata": {},
   "outputs": [],
   "source": [
    "def ess_table(tactics):\n",
    "    ess = find_shares(tactics, 1000, 1000)\n",
    "    df = pd.DataFrame.from_dict(ess, orient='index').sort_values(by=[0], ascending=False).reset_index()\n",
    "    df.columns = ['Team', 'Score Per Share']\n",
    "    display(df[:12].style.apply(lambda x: ['background: lightgreen' if x['Score Per Share'] > df['Score Per Share'].mean() else '' for i in x], axis=1))"
   ]
  },
  {
   "cell_type": "code",
   "execution_count": 43,
   "metadata": {},
   "outputs": [
    {
     "data": {
      "text/html": [
       "<style  type=\"text/css\" >\n",
       "    #T_17123e26_d9a3_11e9_9053_600308a8c37arow0_col0 {\n",
       "            background:  lightgreen;\n",
       "        }    #T_17123e26_d9a3_11e9_9053_600308a8c37arow0_col1 {\n",
       "            background:  lightgreen;\n",
       "        }    #T_17123e26_d9a3_11e9_9053_600308a8c37arow1_col0 {\n",
       "            background:  lightgreen;\n",
       "        }    #T_17123e26_d9a3_11e9_9053_600308a8c37arow1_col1 {\n",
       "            background:  lightgreen;\n",
       "        }    #T_17123e26_d9a3_11e9_9053_600308a8c37arow2_col0 {\n",
       "            background:  lightgreen;\n",
       "        }    #T_17123e26_d9a3_11e9_9053_600308a8c37arow2_col1 {\n",
       "            background:  lightgreen;\n",
       "        }    #T_17123e26_d9a3_11e9_9053_600308a8c37arow3_col0 {\n",
       "            background:  lightgreen;\n",
       "        }    #T_17123e26_d9a3_11e9_9053_600308a8c37arow3_col1 {\n",
       "            background:  lightgreen;\n",
       "        }    #T_17123e26_d9a3_11e9_9053_600308a8c37arow4_col0 {\n",
       "            background:  lightgreen;\n",
       "        }    #T_17123e26_d9a3_11e9_9053_600308a8c37arow4_col1 {\n",
       "            background:  lightgreen;\n",
       "        }    #T_17123e26_d9a3_11e9_9053_600308a8c37arow5_col0 {\n",
       "            background:  lightgreen;\n",
       "        }    #T_17123e26_d9a3_11e9_9053_600308a8c37arow5_col1 {\n",
       "            background:  lightgreen;\n",
       "        }    #T_17123e26_d9a3_11e9_9053_600308a8c37arow6_col0 {\n",
       "            background:  lightgreen;\n",
       "        }    #T_17123e26_d9a3_11e9_9053_600308a8c37arow6_col1 {\n",
       "            background:  lightgreen;\n",
       "        }</style>  \n",
       "<table id=\"T_17123e26_d9a3_11e9_9053_600308a8c37a\" > \n",
       "<thead>    <tr> \n",
       "        <th class=\"blank level0\" ></th> \n",
       "        <th class=\"col_heading level0 col0\" >Team</th> \n",
       "        <th class=\"col_heading level0 col1\" >Score Per Share</th> \n",
       "    </tr></thead> \n",
       "<tbody>    <tr> \n",
       "        <th id=\"T_17123e26_d9a3_11e9_9053_600308a8c37alevel0_row0\" class=\"row_heading level0 row0\" >0</th> \n",
       "        <td id=\"T_17123e26_d9a3_11e9_9053_600308a8c37arow0_col0\" class=\"data row0 col0\" >Scotland</td> \n",
       "        <td id=\"T_17123e26_d9a3_11e9_9053_600308a8c37arow0_col1\" class=\"data row0 col1\" >29.6277</td> \n",
       "    </tr>    <tr> \n",
       "        <th id=\"T_17123e26_d9a3_11e9_9053_600308a8c37alevel0_row1\" class=\"row_heading level0 row1\" >1</th> \n",
       "        <td id=\"T_17123e26_d9a3_11e9_9053_600308a8c37arow1_col0\" class=\"data row1 col0\" >France</td> \n",
       "        <td id=\"T_17123e26_d9a3_11e9_9053_600308a8c37arow1_col1\" class=\"data row1 col1\" >28.7053</td> \n",
       "    </tr>    <tr> \n",
       "        <th id=\"T_17123e26_d9a3_11e9_9053_600308a8c37alevel0_row2\" class=\"row_heading level0 row2\" >2</th> \n",
       "        <td id=\"T_17123e26_d9a3_11e9_9053_600308a8c37arow2_col0\" class=\"data row2 col0\" >Argentina</td> \n",
       "        <td id=\"T_17123e26_d9a3_11e9_9053_600308a8c37arow2_col1\" class=\"data row2 col1\" >25.4904</td> \n",
       "    </tr>    <tr> \n",
       "        <th id=\"T_17123e26_d9a3_11e9_9053_600308a8c37alevel0_row3\" class=\"row_heading level0 row3\" >3</th> \n",
       "        <td id=\"T_17123e26_d9a3_11e9_9053_600308a8c37arow3_col0\" class=\"data row3 col0\" >Japan</td> \n",
       "        <td id=\"T_17123e26_d9a3_11e9_9053_600308a8c37arow3_col1\" class=\"data row3 col1\" >17.3515</td> \n",
       "    </tr>    <tr> \n",
       "        <th id=\"T_17123e26_d9a3_11e9_9053_600308a8c37alevel0_row4\" class=\"row_heading level0 row4\" >4</th> \n",
       "        <td id=\"T_17123e26_d9a3_11e9_9053_600308a8c37arow4_col0\" class=\"data row4 col0\" >Fiji</td> \n",
       "        <td id=\"T_17123e26_d9a3_11e9_9053_600308a8c37arow4_col1\" class=\"data row4 col1\" >15.0859</td> \n",
       "    </tr>    <tr> \n",
       "        <th id=\"T_17123e26_d9a3_11e9_9053_600308a8c37alevel0_row5\" class=\"row_heading level0 row5\" >5</th> \n",
       "        <td id=\"T_17123e26_d9a3_11e9_9053_600308a8c37arow5_col0\" class=\"data row5 col0\" >New Zealand</td> \n",
       "        <td id=\"T_17123e26_d9a3_11e9_9053_600308a8c37arow5_col1\" class=\"data row5 col1\" >13.8124</td> \n",
       "    </tr>    <tr> \n",
       "        <th id=\"T_17123e26_d9a3_11e9_9053_600308a8c37alevel0_row6\" class=\"row_heading level0 row6\" >6</th> \n",
       "        <td id=\"T_17123e26_d9a3_11e9_9053_600308a8c37arow6_col0\" class=\"data row6 col0\" >Italy</td> \n",
       "        <td id=\"T_17123e26_d9a3_11e9_9053_600308a8c37arow6_col1\" class=\"data row6 col1\" >13.641</td> \n",
       "    </tr>    <tr> \n",
       "        <th id=\"T_17123e26_d9a3_11e9_9053_600308a8c37alevel0_row7\" class=\"row_heading level0 row7\" >7</th> \n",
       "        <td id=\"T_17123e26_d9a3_11e9_9053_600308a8c37arow7_col0\" class=\"data row7 col0\" >England</td> \n",
       "        <td id=\"T_17123e26_d9a3_11e9_9053_600308a8c37arow7_col1\" class=\"data row7 col1\" >12.1519</td> \n",
       "    </tr>    <tr> \n",
       "        <th id=\"T_17123e26_d9a3_11e9_9053_600308a8c37alevel0_row8\" class=\"row_heading level0 row8\" >8</th> \n",
       "        <td id=\"T_17123e26_d9a3_11e9_9053_600308a8c37arow8_col0\" class=\"data row8 col0\" >Canada</td> \n",
       "        <td id=\"T_17123e26_d9a3_11e9_9053_600308a8c37arow8_col1\" class=\"data row8 col1\" >10.8403</td> \n",
       "    </tr>    <tr> \n",
       "        <th id=\"T_17123e26_d9a3_11e9_9053_600308a8c37alevel0_row9\" class=\"row_heading level0 row9\" >9</th> \n",
       "        <td id=\"T_17123e26_d9a3_11e9_9053_600308a8c37arow9_col0\" class=\"data row9 col0\" >Namibia</td> \n",
       "        <td id=\"T_17123e26_d9a3_11e9_9053_600308a8c37arow9_col1\" class=\"data row9 col1\" >10.6089</td> \n",
       "    </tr>    <tr> \n",
       "        <th id=\"T_17123e26_d9a3_11e9_9053_600308a8c37alevel0_row10\" class=\"row_heading level0 row10\" >10</th> \n",
       "        <td id=\"T_17123e26_d9a3_11e9_9053_600308a8c37arow10_col0\" class=\"data row10 col0\" >Samoa</td> \n",
       "        <td id=\"T_17123e26_d9a3_11e9_9053_600308a8c37arow10_col1\" class=\"data row10 col1\" >10.5309</td> \n",
       "    </tr>    <tr> \n",
       "        <th id=\"T_17123e26_d9a3_11e9_9053_600308a8c37alevel0_row11\" class=\"row_heading level0 row11\" >11</th> \n",
       "        <td id=\"T_17123e26_d9a3_11e9_9053_600308a8c37arow11_col0\" class=\"data row11 col0\" >Wales</td> \n",
       "        <td id=\"T_17123e26_d9a3_11e9_9053_600308a8c37arow11_col1\" class=\"data row11 col1\" >10.3153</td> \n",
       "    </tr></tbody> \n",
       "</table> "
      ],
      "text/plain": [
       "<pandas.io.formats.style.Styler at 0x11b6c55f8>"
      ]
     },
     "metadata": {},
     "output_type": "display_data"
    }
   ],
   "source": [
    "ess_table(Scenario1)"
   ]
  },
  {
   "cell_type": "code",
   "execution_count": 44,
   "metadata": {},
   "outputs": [
    {
     "data": {
      "text/html": [
       "<style  type=\"text/css\" >\n",
       "    #T_47908a3a_d9a3_11e9_9053_600308a8c37arow0_col0 {\n",
       "            background:  lightgreen;\n",
       "        }    #T_47908a3a_d9a3_11e9_9053_600308a8c37arow0_col1 {\n",
       "            background:  lightgreen;\n",
       "        }    #T_47908a3a_d9a3_11e9_9053_600308a8c37arow1_col0 {\n",
       "            background:  lightgreen;\n",
       "        }    #T_47908a3a_d9a3_11e9_9053_600308a8c37arow1_col1 {\n",
       "            background:  lightgreen;\n",
       "        }    #T_47908a3a_d9a3_11e9_9053_600308a8c37arow2_col0 {\n",
       "            background:  lightgreen;\n",
       "        }    #T_47908a3a_d9a3_11e9_9053_600308a8c37arow2_col1 {\n",
       "            background:  lightgreen;\n",
       "        }    #T_47908a3a_d9a3_11e9_9053_600308a8c37arow3_col0 {\n",
       "            background:  lightgreen;\n",
       "        }    #T_47908a3a_d9a3_11e9_9053_600308a8c37arow3_col1 {\n",
       "            background:  lightgreen;\n",
       "        }    #T_47908a3a_d9a3_11e9_9053_600308a8c37arow4_col0 {\n",
       "            background:  lightgreen;\n",
       "        }    #T_47908a3a_d9a3_11e9_9053_600308a8c37arow4_col1 {\n",
       "            background:  lightgreen;\n",
       "        }</style>  \n",
       "<table id=\"T_47908a3a_d9a3_11e9_9053_600308a8c37a\" > \n",
       "<thead>    <tr> \n",
       "        <th class=\"blank level0\" ></th> \n",
       "        <th class=\"col_heading level0 col0\" >Team</th> \n",
       "        <th class=\"col_heading level0 col1\" >Score Per Share</th> \n",
       "    </tr></thead> \n",
       "<tbody>    <tr> \n",
       "        <th id=\"T_47908a3a_d9a3_11e9_9053_600308a8c37alevel0_row0\" class=\"row_heading level0 row0\" >0</th> \n",
       "        <td id=\"T_47908a3a_d9a3_11e9_9053_600308a8c37arow0_col0\" class=\"data row0 col0\" >New Zealand</td> \n",
       "        <td id=\"T_47908a3a_d9a3_11e9_9053_600308a8c37arow0_col1\" class=\"data row0 col1\" >52.7865</td> \n",
       "    </tr>    <tr> \n",
       "        <th id=\"T_47908a3a_d9a3_11e9_9053_600308a8c37alevel0_row1\" class=\"row_heading level0 row1\" >1</th> \n",
       "        <td id=\"T_47908a3a_d9a3_11e9_9053_600308a8c37arow1_col0\" class=\"data row1 col0\" >England</td> \n",
       "        <td id=\"T_47908a3a_d9a3_11e9_9053_600308a8c37arow1_col1\" class=\"data row1 col1\" >40.2496</td> \n",
       "    </tr>    <tr> \n",
       "        <th id=\"T_47908a3a_d9a3_11e9_9053_600308a8c37alevel0_row2\" class=\"row_heading level0 row2\" >2</th> \n",
       "        <td id=\"T_47908a3a_d9a3_11e9_9053_600308a8c37arow2_col0\" class=\"data row2 col0\" >South Africa</td> \n",
       "        <td id=\"T_47908a3a_d9a3_11e9_9053_600308a8c37arow2_col1\" class=\"data row2 col1\" >34.1926</td> \n",
       "    </tr>    <tr> \n",
       "        <th id=\"T_47908a3a_d9a3_11e9_9053_600308a8c37alevel0_row3\" class=\"row_heading level0 row3\" >3</th> \n",
       "        <td id=\"T_47908a3a_d9a3_11e9_9053_600308a8c37arow3_col0\" class=\"data row3 col0\" >Wales</td> \n",
       "        <td id=\"T_47908a3a_d9a3_11e9_9053_600308a8c37arow3_col1\" class=\"data row3 col1\" >33.3689</td> \n",
       "    </tr>    <tr> \n",
       "        <th id=\"T_47908a3a_d9a3_11e9_9053_600308a8c37alevel0_row4\" class=\"row_heading level0 row4\" >4</th> \n",
       "        <td id=\"T_47908a3a_d9a3_11e9_9053_600308a8c37arow4_col0\" class=\"data row4 col0\" >Ireland</td> \n",
       "        <td id=\"T_47908a3a_d9a3_11e9_9053_600308a8c37arow4_col1\" class=\"data row4 col1\" >33.0814</td> \n",
       "    </tr>    <tr> \n",
       "        <th id=\"T_47908a3a_d9a3_11e9_9053_600308a8c37alevel0_row5\" class=\"row_heading level0 row5\" >5</th> \n",
       "        <td id=\"T_47908a3a_d9a3_11e9_9053_600308a8c37arow5_col0\" class=\"data row5 col0\" >Italy</td> \n",
       "        <td id=\"T_47908a3a_d9a3_11e9_9053_600308a8c37arow5_col1\" class=\"data row5 col1\" >11.5888</td> \n",
       "    </tr>    <tr> \n",
       "        <th id=\"T_47908a3a_d9a3_11e9_9053_600308a8c37alevel0_row6\" class=\"row_heading level0 row6\" >6</th> \n",
       "        <td id=\"T_47908a3a_d9a3_11e9_9053_600308a8c37arow6_col0\" class=\"data row6 col0\" >Samoa</td> \n",
       "        <td id=\"T_47908a3a_d9a3_11e9_9053_600308a8c37arow6_col1\" class=\"data row6 col1\" >9.18171</td> \n",
       "    </tr>    <tr> \n",
       "        <th id=\"T_47908a3a_d9a3_11e9_9053_600308a8c37alevel0_row7\" class=\"row_heading level0 row7\" >7</th> \n",
       "        <td id=\"T_47908a3a_d9a3_11e9_9053_600308a8c37arow7_col0\" class=\"data row7 col0\" >Canada</td> \n",
       "        <td id=\"T_47908a3a_d9a3_11e9_9053_600308a8c37arow7_col1\" class=\"data row7 col1\" >8.73798</td> \n",
       "    </tr>    <tr> \n",
       "        <th id=\"T_47908a3a_d9a3_11e9_9053_600308a8c37alevel0_row8\" class=\"row_heading level0 row8\" >8</th> \n",
       "        <td id=\"T_47908a3a_d9a3_11e9_9053_600308a8c37arow8_col0\" class=\"data row8 col0\" >Namibia</td> \n",
       "        <td id=\"T_47908a3a_d9a3_11e9_9053_600308a8c37arow8_col1\" class=\"data row8 col1\" >8.38949</td> \n",
       "    </tr>    <tr> \n",
       "        <th id=\"T_47908a3a_d9a3_11e9_9053_600308a8c37alevel0_row9\" class=\"row_heading level0 row9\" >9</th> \n",
       "        <td id=\"T_47908a3a_d9a3_11e9_9053_600308a8c37arow9_col0\" class=\"data row9 col0\" >Georgia</td> \n",
       "        <td id=\"T_47908a3a_d9a3_11e9_9053_600308a8c37arow9_col1\" class=\"data row9 col1\" >7.46612</td> \n",
       "    </tr>    <tr> \n",
       "        <th id=\"T_47908a3a_d9a3_11e9_9053_600308a8c37alevel0_row10\" class=\"row_heading level0 row10\" >10</th> \n",
       "        <td id=\"T_47908a3a_d9a3_11e9_9053_600308a8c37arow10_col0\" class=\"data row10 col0\" >Uruguay</td> \n",
       "        <td id=\"T_47908a3a_d9a3_11e9_9053_600308a8c37arow10_col1\" class=\"data row10 col1\" >7.41967</td> \n",
       "    </tr>    <tr> \n",
       "        <th id=\"T_47908a3a_d9a3_11e9_9053_600308a8c37alevel0_row11\" class=\"row_heading level0 row11\" >11</th> \n",
       "        <td id=\"T_47908a3a_d9a3_11e9_9053_600308a8c37arow11_col0\" class=\"data row11 col0\" >Australia</td> \n",
       "        <td id=\"T_47908a3a_d9a3_11e9_9053_600308a8c37arow11_col1\" class=\"data row11 col1\" >7.04478</td> \n",
       "    </tr></tbody> \n",
       "</table> "
      ],
      "text/plain": [
       "<pandas.io.formats.style.Styler at 0x1191c0550>"
      ]
     },
     "metadata": {},
     "output_type": "display_data"
    }
   ],
   "source": [
    "ess_table(Scenario2)"
   ]
  },
  {
   "cell_type": "code",
   "execution_count": 45,
   "metadata": {},
   "outputs": [
    {
     "data": {
      "text/html": [
       "<style  type=\"text/css\" >\n",
       "    #T_78f3e13a_d9a3_11e9_9053_600308a8c37arow0_col0 {\n",
       "            background:  lightgreen;\n",
       "        }    #T_78f3e13a_d9a3_11e9_9053_600308a8c37arow0_col1 {\n",
       "            background:  lightgreen;\n",
       "        }    #T_78f3e13a_d9a3_11e9_9053_600308a8c37arow1_col0 {\n",
       "            background:  lightgreen;\n",
       "        }    #T_78f3e13a_d9a3_11e9_9053_600308a8c37arow1_col1 {\n",
       "            background:  lightgreen;\n",
       "        }    #T_78f3e13a_d9a3_11e9_9053_600308a8c37arow2_col0 {\n",
       "            background:  lightgreen;\n",
       "        }    #T_78f3e13a_d9a3_11e9_9053_600308a8c37arow2_col1 {\n",
       "            background:  lightgreen;\n",
       "        }    #T_78f3e13a_d9a3_11e9_9053_600308a8c37arow3_col0 {\n",
       "            background:  lightgreen;\n",
       "        }    #T_78f3e13a_d9a3_11e9_9053_600308a8c37arow3_col1 {\n",
       "            background:  lightgreen;\n",
       "        }    #T_78f3e13a_d9a3_11e9_9053_600308a8c37arow4_col0 {\n",
       "            background:  lightgreen;\n",
       "        }    #T_78f3e13a_d9a3_11e9_9053_600308a8c37arow4_col1 {\n",
       "            background:  lightgreen;\n",
       "        }    #T_78f3e13a_d9a3_11e9_9053_600308a8c37arow5_col0 {\n",
       "            background:  lightgreen;\n",
       "        }    #T_78f3e13a_d9a3_11e9_9053_600308a8c37arow5_col1 {\n",
       "            background:  lightgreen;\n",
       "        }    #T_78f3e13a_d9a3_11e9_9053_600308a8c37arow6_col0 {\n",
       "            background:  lightgreen;\n",
       "        }    #T_78f3e13a_d9a3_11e9_9053_600308a8c37arow6_col1 {\n",
       "            background:  lightgreen;\n",
       "        }    #T_78f3e13a_d9a3_11e9_9053_600308a8c37arow7_col0 {\n",
       "            background:  lightgreen;\n",
       "        }    #T_78f3e13a_d9a3_11e9_9053_600308a8c37arow7_col1 {\n",
       "            background:  lightgreen;\n",
       "        }    #T_78f3e13a_d9a3_11e9_9053_600308a8c37arow8_col0 {\n",
       "            background:  lightgreen;\n",
       "        }    #T_78f3e13a_d9a3_11e9_9053_600308a8c37arow8_col1 {\n",
       "            background:  lightgreen;\n",
       "        }</style>  \n",
       "<table id=\"T_78f3e13a_d9a3_11e9_9053_600308a8c37a\" > \n",
       "<thead>    <tr> \n",
       "        <th class=\"blank level0\" ></th> \n",
       "        <th class=\"col_heading level0 col0\" >Team</th> \n",
       "        <th class=\"col_heading level0 col1\" >Score Per Share</th> \n",
       "    </tr></thead> \n",
       "<tbody>    <tr> \n",
       "        <th id=\"T_78f3e13a_d9a3_11e9_9053_600308a8c37alevel0_row0\" class=\"row_heading level0 row0\" >0</th> \n",
       "        <td id=\"T_78f3e13a_d9a3_11e9_9053_600308a8c37arow0_col0\" class=\"data row0 col0\" >New Zealand</td> \n",
       "        <td id=\"T_78f3e13a_d9a3_11e9_9053_600308a8c37arow0_col1\" class=\"data row0 col1\" >31.5556</td> \n",
       "    </tr>    <tr> \n",
       "        <th id=\"T_78f3e13a_d9a3_11e9_9053_600308a8c37alevel0_row1\" class=\"row_heading level0 row1\" >1</th> \n",
       "        <td id=\"T_78f3e13a_d9a3_11e9_9053_600308a8c37arow1_col0\" class=\"data row1 col0\" >England</td> \n",
       "        <td id=\"T_78f3e13a_d9a3_11e9_9053_600308a8c37arow1_col1\" class=\"data row1 col1\" >22.0119</td> \n",
       "    </tr>    <tr> \n",
       "        <th id=\"T_78f3e13a_d9a3_11e9_9053_600308a8c37alevel0_row2\" class=\"row_heading level0 row2\" >2</th> \n",
       "        <td id=\"T_78f3e13a_d9a3_11e9_9053_600308a8c37arow2_col0\" class=\"data row2 col0\" >South Africa</td> \n",
       "        <td id=\"T_78f3e13a_d9a3_11e9_9053_600308a8c37arow2_col1\" class=\"data row2 col1\" >20.3606</td> \n",
       "    </tr>    <tr> \n",
       "        <th id=\"T_78f3e13a_d9a3_11e9_9053_600308a8c37alevel0_row3\" class=\"row_heading level0 row3\" >3</th> \n",
       "        <td id=\"T_78f3e13a_d9a3_11e9_9053_600308a8c37arow3_col0\" class=\"data row3 col0\" >Ireland</td> \n",
       "        <td id=\"T_78f3e13a_d9a3_11e9_9053_600308a8c37arow3_col1\" class=\"data row3 col1\" >19.1701</td> \n",
       "    </tr>    <tr> \n",
       "        <th id=\"T_78f3e13a_d9a3_11e9_9053_600308a8c37alevel0_row4\" class=\"row_heading level0 row4\" >4</th> \n",
       "        <td id=\"T_78f3e13a_d9a3_11e9_9053_600308a8c37arow4_col0\" class=\"data row4 col0\" >Wales</td> \n",
       "        <td id=\"T_78f3e13a_d9a3_11e9_9053_600308a8c37arow4_col1\" class=\"data row4 col1\" >18.2722</td> \n",
       "    </tr>    <tr> \n",
       "        <th id=\"T_78f3e13a_d9a3_11e9_9053_600308a8c37alevel0_row5\" class=\"row_heading level0 row5\" >5</th> \n",
       "        <td id=\"T_78f3e13a_d9a3_11e9_9053_600308a8c37arow5_col0\" class=\"data row5 col0\" >France</td> \n",
       "        <td id=\"T_78f3e13a_d9a3_11e9_9053_600308a8c37arow5_col1\" class=\"data row5 col1\" >15.7713</td> \n",
       "    </tr>    <tr> \n",
       "        <th id=\"T_78f3e13a_d9a3_11e9_9053_600308a8c37alevel0_row6\" class=\"row_heading level0 row6\" >6</th> \n",
       "        <td id=\"T_78f3e13a_d9a3_11e9_9053_600308a8c37arow6_col0\" class=\"data row6 col0\" >Scotland</td> \n",
       "        <td id=\"T_78f3e13a_d9a3_11e9_9053_600308a8c37arow6_col1\" class=\"data row6 col1\" >15.7557</td> \n",
       "    </tr>    <tr> \n",
       "        <th id=\"T_78f3e13a_d9a3_11e9_9053_600308a8c37alevel0_row7\" class=\"row_heading level0 row7\" >7</th> \n",
       "        <td id=\"T_78f3e13a_d9a3_11e9_9053_600308a8c37arow7_col0\" class=\"data row7 col0\" >Argentina</td> \n",
       "        <td id=\"T_78f3e13a_d9a3_11e9_9053_600308a8c37arow7_col1\" class=\"data row7 col1\" >12.9337</td> \n",
       "    </tr>    <tr> \n",
       "        <th id=\"T_78f3e13a_d9a3_11e9_9053_600308a8c37alevel0_row8\" class=\"row_heading level0 row8\" >8</th> \n",
       "        <td id=\"T_78f3e13a_d9a3_11e9_9053_600308a8c37arow8_col0\" class=\"data row8 col0\" >Australia</td> \n",
       "        <td id=\"T_78f3e13a_d9a3_11e9_9053_600308a8c37arow8_col1\" class=\"data row8 col1\" >12.7082</td> \n",
       "    </tr>    <tr> \n",
       "        <th id=\"T_78f3e13a_d9a3_11e9_9053_600308a8c37alevel0_row9\" class=\"row_heading level0 row9\" >9</th> \n",
       "        <td id=\"T_78f3e13a_d9a3_11e9_9053_600308a8c37arow9_col0\" class=\"data row9 col0\" >Italy</td> \n",
       "        <td id=\"T_78f3e13a_d9a3_11e9_9053_600308a8c37arow9_col1\" class=\"data row9 col1\" >9.66511</td> \n",
       "    </tr>    <tr> \n",
       "        <th id=\"T_78f3e13a_d9a3_11e9_9053_600308a8c37alevel0_row10\" class=\"row_heading level0 row10\" >10</th> \n",
       "        <td id=\"T_78f3e13a_d9a3_11e9_9053_600308a8c37arow10_col0\" class=\"data row10 col0\" >Japan</td> \n",
       "        <td id=\"T_78f3e13a_d9a3_11e9_9053_600308a8c37arow10_col1\" class=\"data row10 col1\" >9.25916</td> \n",
       "    </tr>    <tr> \n",
       "        <th id=\"T_78f3e13a_d9a3_11e9_9053_600308a8c37alevel0_row11\" class=\"row_heading level0 row11\" >11</th> \n",
       "        <td id=\"T_78f3e13a_d9a3_11e9_9053_600308a8c37arow11_col0\" class=\"data row11 col0\" >Fiji</td> \n",
       "        <td id=\"T_78f3e13a_d9a3_11e9_9053_600308a8c37arow11_col1\" class=\"data row11 col1\" >7.69602</td> \n",
       "    </tr></tbody> \n",
       "</table> "
      ],
      "text/plain": [
       "<pandas.io.formats.style.Styler at 0x1191c0518>"
      ]
     },
     "metadata": {},
     "output_type": "display_data"
    }
   ],
   "source": [
    "ess_table(Scenario3)"
   ]
  },
  {
   "cell_type": "code",
   "execution_count": 46,
   "metadata": {},
   "outputs": [
    {
     "data": {
      "text/html": [
       "<style  type=\"text/css\" >\n",
       "    #T_a9a7094c_d9a3_11e9_9053_600308a8c37arow0_col0 {\n",
       "            background:  lightgreen;\n",
       "        }    #T_a9a7094c_d9a3_11e9_9053_600308a8c37arow0_col1 {\n",
       "            background:  lightgreen;\n",
       "        }    #T_a9a7094c_d9a3_11e9_9053_600308a8c37arow1_col0 {\n",
       "            background:  lightgreen;\n",
       "        }    #T_a9a7094c_d9a3_11e9_9053_600308a8c37arow1_col1 {\n",
       "            background:  lightgreen;\n",
       "        }    #T_a9a7094c_d9a3_11e9_9053_600308a8c37arow2_col0 {\n",
       "            background:  lightgreen;\n",
       "        }    #T_a9a7094c_d9a3_11e9_9053_600308a8c37arow2_col1 {\n",
       "            background:  lightgreen;\n",
       "        }    #T_a9a7094c_d9a3_11e9_9053_600308a8c37arow3_col0 {\n",
       "            background:  lightgreen;\n",
       "        }    #T_a9a7094c_d9a3_11e9_9053_600308a8c37arow3_col1 {\n",
       "            background:  lightgreen;\n",
       "        }    #T_a9a7094c_d9a3_11e9_9053_600308a8c37arow4_col0 {\n",
       "            background:  lightgreen;\n",
       "        }    #T_a9a7094c_d9a3_11e9_9053_600308a8c37arow4_col1 {\n",
       "            background:  lightgreen;\n",
       "        }    #T_a9a7094c_d9a3_11e9_9053_600308a8c37arow5_col0 {\n",
       "            background:  lightgreen;\n",
       "        }    #T_a9a7094c_d9a3_11e9_9053_600308a8c37arow5_col1 {\n",
       "            background:  lightgreen;\n",
       "        }    #T_a9a7094c_d9a3_11e9_9053_600308a8c37arow6_col0 {\n",
       "            background:  lightgreen;\n",
       "        }    #T_a9a7094c_d9a3_11e9_9053_600308a8c37arow6_col1 {\n",
       "            background:  lightgreen;\n",
       "        }    #T_a9a7094c_d9a3_11e9_9053_600308a8c37arow7_col0 {\n",
       "            background:  lightgreen;\n",
       "        }    #T_a9a7094c_d9a3_11e9_9053_600308a8c37arow7_col1 {\n",
       "            background:  lightgreen;\n",
       "        }    #T_a9a7094c_d9a3_11e9_9053_600308a8c37arow8_col0 {\n",
       "            background:  lightgreen;\n",
       "        }    #T_a9a7094c_d9a3_11e9_9053_600308a8c37arow8_col1 {\n",
       "            background:  lightgreen;\n",
       "        }</style>  \n",
       "<table id=\"T_a9a7094c_d9a3_11e9_9053_600308a8c37a\" > \n",
       "<thead>    <tr> \n",
       "        <th class=\"blank level0\" ></th> \n",
       "        <th class=\"col_heading level0 col0\" >Team</th> \n",
       "        <th class=\"col_heading level0 col1\" >Score Per Share</th> \n",
       "    </tr></thead> \n",
       "<tbody>    <tr> \n",
       "        <th id=\"T_a9a7094c_d9a3_11e9_9053_600308a8c37alevel0_row0\" class=\"row_heading level0 row0\" >0</th> \n",
       "        <td id=\"T_a9a7094c_d9a3_11e9_9053_600308a8c37arow0_col0\" class=\"data row0 col0\" >New Zealand</td> \n",
       "        <td id=\"T_a9a7094c_d9a3_11e9_9053_600308a8c37arow0_col1\" class=\"data row0 col1\" >23.2369</td> \n",
       "    </tr>    <tr> \n",
       "        <th id=\"T_a9a7094c_d9a3_11e9_9053_600308a8c37alevel0_row1\" class=\"row_heading level0 row1\" >1</th> \n",
       "        <td id=\"T_a9a7094c_d9a3_11e9_9053_600308a8c37arow1_col0\" class=\"data row1 col0\" >England</td> \n",
       "        <td id=\"T_a9a7094c_d9a3_11e9_9053_600308a8c37arow1_col1\" class=\"data row1 col1\" >16.7458</td> \n",
       "    </tr>    <tr> \n",
       "        <th id=\"T_a9a7094c_d9a3_11e9_9053_600308a8c37alevel0_row2\" class=\"row_heading level0 row2\" >2</th> \n",
       "        <td id=\"T_a9a7094c_d9a3_11e9_9053_600308a8c37arow2_col0\" class=\"data row2 col0\" >South Africa</td> \n",
       "        <td id=\"T_a9a7094c_d9a3_11e9_9053_600308a8c37arow2_col1\" class=\"data row2 col1\" >15.2465</td> \n",
       "    </tr>    <tr> \n",
       "        <th id=\"T_a9a7094c_d9a3_11e9_9053_600308a8c37alevel0_row3\" class=\"row_heading level0 row3\" >3</th> \n",
       "        <td id=\"T_a9a7094c_d9a3_11e9_9053_600308a8c37arow3_col0\" class=\"data row3 col0\" >Scotland</td> \n",
       "        <td id=\"T_a9a7094c_d9a3_11e9_9053_600308a8c37arow3_col1\" class=\"data row3 col1\" >14.7032</td> \n",
       "    </tr>    <tr> \n",
       "        <th id=\"T_a9a7094c_d9a3_11e9_9053_600308a8c37alevel0_row4\" class=\"row_heading level0 row4\" >4</th> \n",
       "        <td id=\"T_a9a7094c_d9a3_11e9_9053_600308a8c37arow4_col0\" class=\"data row4 col0\" >France</td> \n",
       "        <td id=\"T_a9a7094c_d9a3_11e9_9053_600308a8c37arow4_col1\" class=\"data row4 col1\" >14.478</td> \n",
       "    </tr>    <tr> \n",
       "        <th id=\"T_a9a7094c_d9a3_11e9_9053_600308a8c37alevel0_row5\" class=\"row_heading level0 row5\" >5</th> \n",
       "        <td id=\"T_a9a7094c_d9a3_11e9_9053_600308a8c37arow5_col0\" class=\"data row5 col0\" >Wales</td> \n",
       "        <td id=\"T_a9a7094c_d9a3_11e9_9053_600308a8c37arow5_col1\" class=\"data row5 col1\" >14.3724</td> \n",
       "    </tr>    <tr> \n",
       "        <th id=\"T_a9a7094c_d9a3_11e9_9053_600308a8c37alevel0_row6\" class=\"row_heading level0 row6\" >6</th> \n",
       "        <td id=\"T_a9a7094c_d9a3_11e9_9053_600308a8c37arow6_col0\" class=\"data row6 col0\" >Ireland</td> \n",
       "        <td id=\"T_a9a7094c_d9a3_11e9_9053_600308a8c37arow6_col1\" class=\"data row6 col1\" >14.0856</td> \n",
       "    </tr>    <tr> \n",
       "        <th id=\"T_a9a7094c_d9a3_11e9_9053_600308a8c37alevel0_row7\" class=\"row_heading level0 row7\" >7</th> \n",
       "        <td id=\"T_a9a7094c_d9a3_11e9_9053_600308a8c37arow7_col0\" class=\"data row7 col0\" >Italy</td> \n",
       "        <td id=\"T_a9a7094c_d9a3_11e9_9053_600308a8c37arow7_col1\" class=\"data row7 col1\" >12.7985</td> \n",
       "    </tr>    <tr> \n",
       "        <th id=\"T_a9a7094c_d9a3_11e9_9053_600308a8c37alevel0_row8\" class=\"row_heading level0 row8\" >8</th> \n",
       "        <td id=\"T_a9a7094c_d9a3_11e9_9053_600308a8c37arow8_col0\" class=\"data row8 col0\" >Argentina</td> \n",
       "        <td id=\"T_a9a7094c_d9a3_11e9_9053_600308a8c37arow8_col1\" class=\"data row8 col1\" >12.6607</td> \n",
       "    </tr>    <tr> \n",
       "        <th id=\"T_a9a7094c_d9a3_11e9_9053_600308a8c37alevel0_row9\" class=\"row_heading level0 row9\" >9</th> \n",
       "        <td id=\"T_a9a7094c_d9a3_11e9_9053_600308a8c37arow9_col0\" class=\"data row9 col0\" >Samoa</td> \n",
       "        <td id=\"T_a9a7094c_d9a3_11e9_9053_600308a8c37arow9_col1\" class=\"data row9 col1\" >9.95906</td> \n",
       "    </tr>    <tr> \n",
       "        <th id=\"T_a9a7094c_d9a3_11e9_9053_600308a8c37alevel0_row10\" class=\"row_heading level0 row10\" >10</th> \n",
       "        <td id=\"T_a9a7094c_d9a3_11e9_9053_600308a8c37arow10_col0\" class=\"data row10 col0\" >Canada</td> \n",
       "        <td id=\"T_a9a7094c_d9a3_11e9_9053_600308a8c37arow10_col1\" class=\"data row10 col1\" >9.90717</td> \n",
       "    </tr>    <tr> \n",
       "        <th id=\"T_a9a7094c_d9a3_11e9_9053_600308a8c37alevel0_row11\" class=\"row_heading level0 row11\" >11</th> \n",
       "        <td id=\"T_a9a7094c_d9a3_11e9_9053_600308a8c37arow11_col0\" class=\"data row11 col0\" >Namibia</td> \n",
       "        <td id=\"T_a9a7094c_d9a3_11e9_9053_600308a8c37arow11_col1\" class=\"data row11 col1\" >8.95353</td> \n",
       "    </tr></tbody> \n",
       "</table> "
      ],
      "text/plain": [
       "<pandas.io.formats.style.Styler at 0x1191c0828>"
      ]
     },
     "metadata": {},
     "output_type": "display_data"
    }
   ],
   "source": [
    "ess_table(Scenario4)"
   ]
  },
  {
   "cell_type": "markdown",
   "metadata": {},
   "source": [
    "After some thought, I decided that Scenario1 is hopefully not so likely (fingers crossed some people go completely against the odds). Therefore, I will try and optimise for Scenario4 (whose histogram looks like what we may expect?). Strangely enough, optimising for Scenario4, also helps optimise Scenarios 2 and 3 even more so...\n",
    "\n",
    "We run similar code to before, but this time keeping track of all tactics entered into each tournament, in order to work out if the chosen set of shares comes out on top! We output the percentage of wins for the given shares, for each of Scenarios 1-4."
   ]
  },
  {
   "cell_type": "code",
   "execution_count": 47,
   "metadata": {},
   "outputs": [],
   "source": [
    "def check_wins(n, m, shares):\n",
    "    S = []\n",
    "    for scenario in [Scenario1,Scenario2,Scenario3,Scenario4,Scenario5,Scenario6,Scenario7,Scenario8]:\n",
    "        s = 0\n",
    "        for i in range(n):\n",
    "            total_shares = Counter(shares)\n",
    "            tactics = []\n",
    "            for _ in range(scenario[0]):\n",
    "                t = good_tactic()\n",
    "                total_shares += t\n",
    "                tactics.append(t)\n",
    "            for _ in range(scenario[1]):\n",
    "                t = spread_tactic()\n",
    "                total_shares += t\n",
    "                tactics.append(t)\n",
    "            for _ in range(scenario[2]):\n",
    "                t = random_tactic()\n",
    "                total_shares += t\n",
    "                tactics.append(t)\n",
    "            for _ in range(scenario[3]):\n",
    "                t = middle_tactic()\n",
    "                total_shares += t\n",
    "                tactics.append(t)\n",
    "            for _ in range(scenario[4]):\n",
    "                t = pool_tactic()\n",
    "                total_shares += t\n",
    "                tactics.append(t)\n",
    "            for _ in range(scenario[5]):\n",
    "                t = ben_tactic()\n",
    "                total_shares += t\n",
    "                tactics.append(t)\n",
    "                \n",
    "            for j in range(m):\n",
    "                T = tournament()\n",
    "                check = True\n",
    "                my_score = score(shares, total_shares, T)\n",
    "                for t in tactics:\n",
    "                    if score(t, total_shares, T) > my_score:\n",
    "                        check = False\n",
    "                        break\n",
    "                if check:    \n",
    "                    s += 1\n",
    "        S.append(round(s/(n*m) * 100))\n",
    "    return S"
   ]
  },
  {
   "cell_type": "markdown",
   "metadata": {},
   "source": [
    "Now, by looking at ess_table(Scenario4) above, we know the teams that should earn us the most points in Scenario4. Playing around with the amount of shares we assign each team leads to the following set of shares as a good candidate:"
   ]
  },
  {
   "cell_type": "code",
   "execution_count": 48,
   "metadata": {},
   "outputs": [
    {
     "name": "stdout",
     "output_type": "stream",
     "text": [
      "[10, 56, 44, 44, 4, 38, 27, 25]\n"
     ]
    }
   ],
   "source": [
    "shares = {'Ireland': 1,\n",
    "         'Scotland': 1,\n",
    "         'New Zealand': 4,\n",
    "         'South Africa': 3,\n",
    "         'Italy': 1,\n",
    "         'England': 3,\n",
    "         'France': 1,\n",
    "         'Wales': 2}\n",
    "print(check_wins(1000,100,shares))"
   ]
  },
  {
   "cell_type": "markdown",
   "metadata": {},
   "source": [
    "So, given the office tactics are chosen similar to Scenario 2, 3 or 4 (with ~10 entrants), then our simulations give us a better than 40% chance of winning!"
   ]
  }
 ],
 "metadata": {
  "kernelspec": {
   "display_name": "Python 3",
   "language": "python",
   "name": "python3"
  },
  "language_info": {
   "codemirror_mode": {
    "name": "ipython",
    "version": 3
   },
   "file_extension": ".py",
   "mimetype": "text/x-python",
   "name": "python",
   "nbconvert_exporter": "python",
   "pygments_lexer": "ipython3",
   "version": "3.7.1"
  }
 },
 "nbformat": 4,
 "nbformat_minor": 2
}
