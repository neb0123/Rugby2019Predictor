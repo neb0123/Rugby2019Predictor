{
 "cells": [
  {
   "cell_type": "markdown",
   "metadata": {},
   "source": [
    "## Imports"
   ]
  },
  {
   "cell_type": "code",
   "execution_count": 11,
   "metadata": {},
   "outputs": [],
   "source": [
    "from scipy.optimize import minimize\n",
    "from itertools import combinations\n",
    "import random"
   ]
  },
  {
   "cell_type": "markdown",
   "metadata": {},
   "source": [
    "## Normalize the pool dictionaries"
   ]
  },
  {
   "cell_type": "code",
   "execution_count": 5,
   "metadata": {},
   "outputs": [],
   "source": [
    "def Pnorm(pool):\n",
    "    total = sum([1 / s[0] for s in pool.values()])\n",
    "    for team in pool.keys():\n",
    "        pool[team][0] = (1 / pool[team][0]) / total\n",
    "    return pool"
   ]
  },
  {
   "cell_type": "code",
   "execution_count": 6,
   "metadata": {},
   "outputs": [],
   "source": [
    "PoolA = Pnorm({'Ireland':[2246,4.7,0], 'Scotland':[2129,24,0], 'Japan':[2050,60,0], 'Russia':[1789,200,0], 'Samoa':[1965,200,0]})\n",
    "PoolB = Pnorm({'New Zealand':[2323,1.76,0], 'South Africa':[2201,2.88,0], 'Italy':[1889,100,0], 'Namibia':[1838,200,0], 'Canada':[1839,100,0]})\n",
    "PoolC = Pnorm({'England':[1.38,3.5,0], 'France':[5.6,12.5,0], 'Argentina':[7.2,20,0], 'Tonga':[500,100,0], 'USA':[500,100,0]})\n",
    "PoolD = Pnorm({'Wales':[1.86,4.6,0], 'Australia':[2.12,6.8,0], 'Fiji':[40,60,0], 'Georgia':[500,100,0], 'Uruguay':[500,200,0]})"
   ]
  },
  {
   "cell_type": "markdown",
   "metadata": {},
   "source": [
    "## ELO model"
   ]
  },
  {
   "cell_type": "code",
   "execution_count": 8,
   "metadata": {},
   "outputs": [],
   "source": [
    "def expected_score(p1_rating, p2_rating):\n",
    "    return 1 / (1 + 10**((p2_rating - p1_rating)/400))"
   ]
  },
  {
   "cell_type": "code",
   "execution_count": 7,
   "metadata": {},
   "outputs": [
    {
     "data": {
      "text/plain": [
       "0.5"
      ]
     },
     "execution_count": 7,
     "metadata": {},
     "output_type": "execute_result"
    }
   ],
   "source": [
    "expected_score(2000, 2000)"
   ]
  },
  {
   "cell_type": "markdown",
   "metadata": {},
   "source": [
    "## Score function (How well the ELOs represent the odds)"
   ]
  },
  {
   "cell_type": "code",
   "execution_count": 61,
   "metadata": {},
   "outputs": [],
   "source": [
    "def score(elos, odds, iterations=1000):\n",
    "    players = len(elos)\n",
    "    pool_wins = [0 for _ in range(players)]\n",
    "    for _ in range(iterations):\n",
    "        points = [0 for _ in range(players)]\n",
    "        for i, j in combinations(range(players), 2):\n",
    "            result = expected_score(elos[i], elos[j])\n",
    "            if random.random() < result:\n",
    "                points[i] += 1\n",
    "            else:\n",
    "                points[j] += 1\n",
    "        best_score = max(points)\n",
    "        pool_winner = random.choice([i for i in range(players) if points[i] == best_score])\n",
    "        pool_wins[pool_winner] += 1.0/iterations\n",
    "    \n",
    "    score = sum(abs(a-b) for a,b in zip(pool_wins, odds))\n",
    "\n",
    "    return score"
   ]
  },
  {
   "cell_type": "code",
   "execution_count": 62,
   "metadata": {},
   "outputs": [
    {
     "data": {
      "text/plain": [
       "0.2280000000000006"
      ]
     },
     "execution_count": 62,
     "metadata": {},
     "output_type": "execute_result"
    }
   ],
   "source": [
    "score([2000, 2000, 2500], [0.1, 0.1, 0.8])"
   ]
  },
  {
   "cell_type": "markdown",
   "metadata": {},
   "source": [
    "## Optimization"
   ]
  },
  {
   "cell_type": "code",
   "execution_count": null,
   "metadata": {},
   "outputs": [
    {
     "name": "stdout",
     "output_type": "stream",
     "text": [
      "ELOS: 1994 2005 2007 2009 2024\n",
      "Odds: 0.18 0.19 0.197 0.206 0.226\n",
      "\n"
     ]
    }
   ],
   "source": [
    "for pool in [PoolA, PoolB, PoolC, PoolD]:\n",
    "    odds = [x[0] for x in pool.values()]\n",
    "    elos = minimize(score, [2000 for _ in range(5)], args=odds, method='Nelder-Mead').x\n",
    "    \n",
    "    rounded_odds = sorted([round(o, 3) for o in odds])\n",
    "    rounded_elos = sorted([int(e) for e in elos])\n",
    "    \n",
    "    print(\"ELOS:\", *rounded_elos, sep=\" \")\n",
    "    print(\"Odds:\", *rounded_odds, sep=\" \", end=\"\\n\\n\")"
   ]
  },
  {
   "cell_type": "code",
   "execution_count": null,
   "metadata": {},
   "outputs": [],
   "source": []
  }
 ],
 "metadata": {
  "kernelspec": {
   "display_name": "Python 3",
   "language": "python",
   "name": "python3"
  },
  "language_info": {
   "codemirror_mode": {
    "name": "ipython",
    "version": 3
   },
   "file_extension": ".py",
   "mimetype": "text/x-python",
   "name": "python",
   "nbconvert_exporter": "python",
   "pygments_lexer": "ipython3",
   "version": "3.7.2"
  }
 },
 "nbformat": 4,
 "nbformat_minor": 1
}
